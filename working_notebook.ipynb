{
 "cells": [
  {
   "cell_type": "code",
   "execution_count": 2,
   "metadata": {},
   "outputs": [],
   "source": [
    "%load_ext autoreload\n",
    "%autoreload 2\n",
    "\n",
    "import os\n",
    "import re\n",
    "import pickle\n",
    "\n",
    "# Get project's root directory\n",
    "BASE_PATH = re.search(r'.+(Team5)', os.getcwd())[0]\n",
    "os.chdir(BASE_PATH)\n",
    "BASE_PATH\n",
    "\n",
    "DATA_DIRECTORY = './data'"
   ]
  },
  {
   "cell_type": "markdown",
   "metadata": {},
   "source": [
    "## Task 1"
   ]
  },
  {
   "cell_type": "code",
   "execution_count": 4,
   "metadata": {},
   "outputs": [],
   "source": [
    "\"\"\"\n",
    "# TASK 1: Compute image descriptors (QS1)\n",
    "\n",
    "Color Histogram:\n",
    "    - gray level / concatenate color component histograms\n",
    "    - color space RGB, CieLab, YCbCr, HSV.\n",
    "    - Compulsory to use 1D histograms!\n",
    "\"\"\"\n",
    "\n",
    "from src.image_dataset import ImageDataset, ColorSpace\n",
    "from src.image import ColorSpace, Image"
   ]
  },
  {
   "cell_type": "code",
   "execution_count": 6,
   "metadata": {},
   "outputs": [],
   "source": [
    "# Load the DataBase and the Query 1\n",
    "#BDDataset = ImageDataset(f'{DATA_DIRECTORY}/BBDD', colorspace=ColorSpace.HSV, interval=1)\n",
    "QueryDataset = ImageDataset(f'{DATA_DIRECTORY}/qsd1_w1', colorspace=ColorSpace.HSV, interval=1)\n",
    "QueryDataset.change_colorspace(new_colorspace=ColorSpace.CieLab)"
   ]
  },
  {
   "cell_type": "code",
   "execution_count": null,
   "metadata": {},
   "outputs": [],
   "source": [
    "# Plot descriptor (histogram of each color channel) for the first image of the Query dataset. Colorspace: HSV & bin interval size=1\n",
    "QueryDataset.images[0].plot_histograms()\n",
    "QueryDataset.images[0].show_original()\n",
    "QueryDataset.images[0].show()"
   ]
  },
  {
   "cell_type": "markdown",
   "metadata": {},
   "source": [
    "## Task 2"
   ]
  },
  {
   "cell_type": "code",
   "execution_count": 5,
   "metadata": {},
   "outputs": [],
   "source": [
    "\"\"\"\n",
    "# TASK 2: Similarity measures\n",
    "\n",
    "Distance:\n",
    "    - Euclidean distance\n",
    "    - L1 distance\n",
    "    - χ2\n",
    "\n",
    "Similarity:\n",
    "    - Histogram intersection (similarity)\n",
    "    - Hellinger kernel (similarity)\n",
    "\"\"\"\n",
    "\n",
    "# Implementation of the distances, similarities and evaluation metrics\n",
    "from src.metrics import *"
   ]
  },
  {
   "cell_type": "markdown",
   "metadata": {},
   "source": [
    "## Task 3"
   ]
  },
  {
   "cell_type": "code",
   "execution_count": null,
   "metadata": {},
   "outputs": [],
   "source": [
    "\"\"\" \n",
    "Before submiting the results for testing with QST1, let's find the methods that work better.\n",
    "We will try to optimize mAP@K with the parameters: \n",
    "   - Colorspace of the image \n",
    "   - bin_size of the hitograms \n",
    "   - Metric to compute differences between descriptors (distance or similarity).\n",
    "   - Handling of the three distances (one for each channel) before computing mAP@K: Mean, min, max, sum...\n",
    "\"\"\""
   ]
  },
  {
   "cell_type": "code",
   "execution_count": null,
   "metadata": {},
   "outputs": [],
   "source": [
    "from typing import Dict, List\n",
    "import numpy as np\n",
    "from src.metrics import DistanceType, SimilarityType, apk\n",
    "\n",
    "def compute_results_by_distance(\n",
    "      bdd_dataset: ImageDataset,\n",
    "      query_dataset: ImageDataset,\n",
    "      ground_truth: List[List[int]],\n",
    "      distance_type: DistanceType = DistanceType.l1\n",
    "   ) -> Dict:\n",
    "\n",
    "   result = []\n",
    "   distances_result = []\n",
    "   for image in query_dataset:\n",
    "      distances_list = []\n",
    "      for image2 in bdd_dataset:\n",
    "         distances = image.compute_distance(image2, type=distance_type)\n",
    "         distance = np.mean(distances)\n",
    "         distances_list.append(distance)\n",
    "      top_k = np.argsort(distances_list)[:5]\n",
    "\n",
    "      result.append([bdd_dataset[i].index for i in top_k])\n",
    "      distances_result.append([distances_list[i] for i in top_k])\n",
    "   \n",
    "   return {\n",
    "      'apk1': [apk(a,p,1) for a,p in zip(ground_truth, result)],\n",
    "      'apk5': [apk(a,p,5) for a,p in zip(ground_truth, result)],\n",
    "      'distances': distances_result\n",
    "   }\n",
    "\n",
    "\n",
    "def compute_results_by_similarity(\n",
    "      bdd_dataset: ImageDataset,\n",
    "      query_dataset: ImageDataset,\n",
    "      ground_truth: List[List[int]],\n",
    "      similarity_type: SimilarityType = SimilarityType.histogram_intersection\n",
    "   ) -> Dict:\n",
    "\n",
    "   result = []\n",
    "   similarities_result = []\n",
    "   for image in query_dataset:\n",
    "      similarities_list = []\n",
    "      for image2 in bdd_dataset:\n",
    "         similarities = image.compute_similarity(image2, type=similarity_type)\n",
    "         similarity = np.mean(similarities)\n",
    "         similarities_list.append(similarity)\n",
    "      top_k = np.argsort(similarities_list)[-5:][::-1]\n",
    "\n",
    "      result.append([bdd_dataset[i].index for i in top_k])\n",
    "      similarities_result.append([similarities_list[i] for i in top_k])\n",
    "   \n",
    "   return {\n",
    "      'apk1': [apk(a,p,1) for a,p in zip(ground_truth, result)],\n",
    "      'apk5': [apk(a,p,5) for a,p in zip(ground_truth, result)],\n",
    "      'similarities': similarities_result\n",
    "   }"
   ]
  },
  {
   "cell_type": "code",
   "execution_count": 7,
   "metadata": {},
   "outputs": [],
   "source": [
    "import numpy as np\n",
    "\n",
    "BBDD_PATH = f'{DATA_DIRECTORY}/BBDD'\n",
    "QUERY_PATH = f'{DATA_DIRECTORY}/qsd1_w1'\n",
    "TEST_PATH = f'{DATA_DIRECTORY}/qst1_w1'\n",
    "\n",
    "# Load ground truth correspondences\n",
    "with open(f'{QUERY_PATH}/gt_corresps.pkl', 'rb') as f:\n",
    "    ground_truth = pickle.load(f)"
   ]
  },
  {
   "cell_type": "markdown",
   "metadata": {},
   "source": [
    "### Test with different colorspaces"
   ]
  },
  {
   "cell_type": "code",
   "execution_count": null,
   "metadata": {},
   "outputs": [],
   "source": [
    "result_colorspaces = {}\n",
    "\n",
    "# Check for each colorspace which ones works better\n",
    "for colorspace in ColorSpace:\n",
    "   print('Processing for colorspace:', colorspace.name)\n",
    "   bdd_dataset = ImageDataset(BBDD_PATH, colorspace=colorspace)\n",
    "   query_dataset = ImageDataset(QUERY_PATH, colorspace=colorspace)\n",
    "\n",
    "   result_colorspaces[colorspace.name] = compute_results_by_distance(\n",
    "       bdd_dataset, query_dataset, ground_truth, DistanceType.l1,\n",
    "    )"
   ]
  },
  {
   "cell_type": "markdown",
   "metadata": {},
   "source": [
    "### Test with different intervals"
   ]
  },
  {
   "cell_type": "code",
   "execution_count": null,
   "metadata": {},
   "outputs": [],
   "source": [
    "result_intervals = {}\n",
    "\n",
    "intervals = [i+1 for i in range(20)]\n",
    "\n",
    "# Check for colorspace CieLab with and different intervals\n",
    "for interval in intervals:\n",
    "   print('Processing for interval:', interval)\n",
    "   bdd_dataset = ImageDataset(BBDD_PATH, colorspace=ColorSpace.CieLab, interval=interval)\n",
    "   query_dataset = ImageDataset(QUERY_PATH, colorspace=ColorSpace.CieLab, interval=interval)\n",
    "\n",
    "   result_intervals[interval] = compute_results_by_similarity(\n",
    "       bdd_dataset, query_dataset, ground_truth, SimilarityType.bhattacharyya,\n",
    "    )"
   ]
  },
  {
   "cell_type": "code",
   "execution_count": null,
   "metadata": {},
   "outputs": [],
   "source": [
    "for colorspace, result in result_colorspaces.items():\n",
    "    print('Colorspace:', colorspace)\n",
    "    print('-------------------------')\n",
    "    print(' -> MAPK1 =', np.mean(result['apk1']))\n",
    "    print(' -> MAPK5 =', np.mean(result['apk5']))\n",
    "    "
   ]
  },
  {
   "cell_type": "code",
   "execution_count": null,
   "metadata": {},
   "outputs": [],
   "source": [
    "for interval, result in result_intervals.items():\n",
    "    print('Interval:', interval)\n",
    "    print('-------------------------')\n",
    "    print(' -> MAPK1 =', np.mean(result['apk1']))\n",
    "    print(' -> MAPK5 =', np.mean(result['apk5']))"
   ]
  },
  {
   "cell_type": "markdown",
   "metadata": {},
   "source": [
    "### Check Distances"
   ]
  },
  {
   "cell_type": "code",
   "execution_count": null,
   "metadata": {},
   "outputs": [],
   "source": [
    "result_distances = {}\n",
    "\n",
    "for distance in [DistanceType.l1, DistanceType.euclidean, DistanceType.chi2]:\n",
    "   print('Processing for distance:', distance.__name__)\n",
    "   bdd_dataset = ImageDataset(BBDD_PATH, colorspace=ColorSpace.CieLab, interval=14)\n",
    "   query_dataset = ImageDataset(QUERY_PATH, colorspace=ColorSpace.CieLab, interval=14)\n",
    "   result_distances[distance.__name__] = compute_results_by_distance(\n",
    "       bdd_dataset, query_dataset, ground_truth, distance,\n",
    "    )\n"
   ]
  },
  {
   "cell_type": "code",
   "execution_count": null,
   "metadata": {},
   "outputs": [],
   "source": [
    "for distance, result in result_distances.items():\n",
    "    print('Distance:', distance)\n",
    "    print('-------------------------')\n",
    "    print(' -> MAPK1 =', np.mean(result['apk1']))\n",
    "    print(' -> MAPK5 =', np.mean(result['apk5']))"
   ]
  },
  {
   "cell_type": "markdown",
   "metadata": {},
   "source": [
    "### Check Similarities"
   ]
  },
  {
   "cell_type": "code",
   "execution_count": null,
   "metadata": {},
   "outputs": [],
   "source": [
    "result_similarities = {}\n",
    "\n",
    "# Check for each colorspace which ones works better\n",
    "for similarity in [SimilarityType.histogram_intersection, SimilarityType.hellinger_kernel, SimilarityType.bhattacharyya]:\n",
    "   print('Processing for similarity:', similarity.__name__)\n",
    "   bdd_dataset = ImageDataset(BBDD_PATH, colorspace=ColorSpace.CieLab, interval=14)\n",
    "   query_dataset = ImageDataset(QUERY_PATH, colorspace=ColorSpace.CieLab, interval=14)\n",
    "\n",
    "   result_similarities[similarity.__name__] = compute_results_by_similarity(\n",
    "       bdd_dataset, query_dataset, ground_truth, similarity,\n",
    "    )"
   ]
  },
  {
   "cell_type": "code",
   "execution_count": null,
   "metadata": {},
   "outputs": [],
   "source": [
    "for similarity, result in result_similarities.items():\n",
    "    print('Similarity:', similarity)\n",
    "    print('-------------------------')\n",
    "    print(' -> MAPK1 =', np.mean(result['apk1']))\n",
    "    print(' -> MAPK5 =', np.mean(result['apk5']))"
   ]
  },
  {
   "cell_type": "markdown",
   "metadata": {},
   "source": [
    "## Task 4"
   ]
  },
  {
   "cell_type": "code",
   "execution_count": 8,
   "metadata": {},
   "outputs": [],
   "source": [
    "\"\"\" \n",
    "# TASK 4: Submit your results for a “blind” competition in QST1\n",
    "\n",
    "Format: For each test query in QST1, a list of the K=10 best results:\n",
    "    - Create a python list of lists, with the image ids (integer numbers)\n",
    "    - Example with 3 queries and K=2\n",
    "        Query: [[q1], [q2], [q3]]\n",
    "        Result: [[7,2], [76, 4], [43, 12]]\n",
    "    Where 7 corresponds to image 00007.jpg, etc.\n",
    "\"\"\"\n",
    "\n",
    "# Read data\n",
    "bdd_dataset_i7 = ImageDataset(BBDD_PATH, colorspace=ColorSpace.CieLab, interval=7)\n",
    "test_dataset_i7 = ImageDataset(TEST_PATH, colorspace=ColorSpace.CieLab, interval=7)\n",
    "\n",
    "bdd_dataset_i14 = ImageDataset(BBDD_PATH, colorspace=ColorSpace.CieLab, interval=14)\n",
    "test_dataset_i14 = ImageDataset(TEST_PATH, colorspace=ColorSpace.CieLab, interval=14)"
   ]
  },
  {
   "cell_type": "code",
   "execution_count": 16,
   "metadata": {},
   "outputs": [],
   "source": [
    "\n",
    "result = []\n",
    "for image in test_dataset_i7:\n",
    "    similarities_list = []\n",
    "    for image2 in bdd_dataset_i7:\n",
    "        similarities = image.compute_similarity(image2, type=SimilarityType.bhattacharyya)\n",
    "        similarity = np.mean(similarities)\n",
    "        similarities_list.append(similarity)\n",
    "    top_k = np.argsort(similarities_list)[-5:][::-1]\n",
    "\n",
    "    result.append([bdd_dataset_i7[i].index for i in top_k])"
   ]
  },
  {
   "cell_type": "code",
   "execution_count": 17,
   "metadata": {},
   "outputs": [
    {
     "data": {
      "text/plain": [
       "[[174, 27, 276, 51, 225],\n",
       " [206, 272, 150, 191, 141],\n",
       " [155, 140, 144, 88, 96],\n",
       " [22, 12, 137, 145, 200],\n",
       " [157, 57, 64, 133, 218],\n",
       " [23, 225, 119, 271, 241],\n",
       " [172, 19, 107, 251, 239],\n",
       " [110, 242, 246, 285, 223],\n",
       " [215, 39, 239, 82, 163],\n",
       " [212, 186, 90, 182, 148],\n",
       " [31, 174, 259, 170, 130],\n",
       " [184, 202, 22, 92, 93],\n",
       " [52, 146, 85, 18, 217],\n",
       " [258, 49, 209, 197, 75],\n",
       " [100, 20, 95, 42, 200],\n",
       " [155, 140, 265, 84, 144],\n",
       " [110, 246, 79, 151, 242],\n",
       " [241, 242, 170, 32, 271],\n",
       " [130, 225, 29, 4, 174],\n",
       " [251, 172, 145, 19, 105],\n",
       " [120, 236, 95, 229, 222],\n",
       " [203, 111, 195, 149, 51],\n",
       " [91, 82, 253, 265, 51],\n",
       " [212, 182, 141, 97, 186],\n",
       " [52, 85, 226, 47, 165],\n",
       " [262, 241, 69, 282, 170],\n",
       " [227, 140, 69, 144, 233],\n",
       " [53, 32, 8, 46, 128],\n",
       " [142, 172, 131, 156, 19],\n",
       " [32, 218, 64, 241, 57]]"
      ]
     },
     "execution_count": 17,
     "metadata": {},
     "output_type": "execute_result"
    }
   ],
   "source": [
    "result"
   ]
  },
  {
   "cell_type": "code",
   "execution_count": 13,
   "metadata": {},
   "outputs": [],
   "source": [
    "with open(f'{TEST_PATH}/method1.pkl', 'wb') as file:\n",
    "    # Use pickle.dump to write the list to the file\n",
    "    pickle.dump(result, file)"
   ]
  },
  {
   "cell_type": "code",
   "execution_count": 14,
   "metadata": {},
   "outputs": [],
   "source": [
    "\n",
    "result = []\n",
    "for image in test_dataset_i14:\n",
    "    similarities_list = []\n",
    "    for image2 in bdd_dataset_i14:\n",
    "        similarities = image.compute_distance(image2, type=DistanceType.l1)\n",
    "        similarity = np.mean(similarities)\n",
    "        similarities_list.append(similarity)\n",
    "    top_k = np.argsort(similarities_list)[:5]\n",
    "\n",
    "    result.append([bdd_dataset_i14[i].index for i in top_k])"
   ]
  },
  {
   "cell_type": "code",
   "execution_count": 15,
   "metadata": {},
   "outputs": [],
   "source": [
    "with open(f'{TEST_PATH}/method2.pkl', 'wb') as file:\n",
    "    # Use pickle.dump to write the list to the file\n",
    "    pickle.dump(result, file)"
   ]
  },
  {
   "cell_type": "code",
   "execution_count": null,
   "metadata": {},
   "outputs": [],
   "source": []
  }
 ],
 "metadata": {
  "kernelspec": {
   "display_name": ".venv",
   "language": "python",
   "name": "python3"
  },
  "language_info": {
   "codemirror_mode": {
    "name": "ipython",
    "version": 3
   },
   "file_extension": ".py",
   "mimetype": "text/x-python",
   "name": "python",
   "nbconvert_exporter": "python",
   "pygments_lexer": "ipython3",
   "version": "3.12.3"
  }
 },
 "nbformat": 4,
 "nbformat_minor": 2
}
