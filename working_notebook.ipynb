{
 "cells": [
  {
   "cell_type": "code",
   "execution_count": 1,
   "metadata": {},
   "outputs": [],
   "source": [
    "%load_ext autoreload\n",
    "%autoreload 2\n",
    "\n",
    "from enum import Enum\n",
    "from typing import Optional, List, Callable\n",
    "import cv2\n",
    "import matplotlib.pyplot as plt\n",
    "import numpy as np\n",
    "import os\n",
    "import re\n",
    "import pickle\n",
    "\n",
    "# Get project's root directory\n",
    "BASE_PATH = re.search(r'.+(Team5)', os.getcwd())[0]\n",
    "os.chdir(BASE_PATH)\n",
    "BASE_PATH\n",
    "\n",
    "DATA_DIRECTORY = './data'"
   ]
  },
  {
   "cell_type": "markdown",
   "metadata": {},
   "source": [
    "## Task 1"
   ]
  },
  {
   "cell_type": "code",
   "execution_count": 9,
   "metadata": {},
   "outputs": [],
   "source": [
    "\"\"\"\n",
    "# TASK 1: Compute image descriptors (QS1)\n",
    "\n",
    "Color Histogram:\n",
    "    - gray level / concatenate color component histograms\n",
    "    - color space RGB, CieLab, YCbCr, HSV, etc.\n",
    "    - Compulsory to use 1D histograms!\n",
    "\"\"\"\n",
    "\n",
    "from src.image_dataset import ImageDataset, ColorSpace\n",
    "from src.image import ColorSpace, Image"
   ]
  },
  {
   "cell_type": "code",
   "execution_count": 12,
   "metadata": {},
   "outputs": [],
   "source": [
    "# Load the DataBse and the Query 1\n",
    "BDDataset = ImageDataset(f'{DATA_DIRECTORY}/BBDD', colorspace=ColorSpace.HSV, interval=1)\n",
    "QueryDataset = ImageDataset(f'{DATA_DIRECTORY}/qsd1_w1', colorspace=ColorSpace.HSV, interval=1)"
   ]
  },
  {
   "cell_type": "code",
   "execution_count": 11,
   "metadata": {},
   "outputs": [
    {
     "data": {
      "image/png": "[encoded data removed]",
      "text/plain": [
       "<Figure size 1500x500 with 3 Axes>"
      ]
     },
     "metadata": {},
     "output_type": "display_data"
    }
   ],
   "source": [
    "# Plot descriptor (histogram of each color channel) for the first image of the Query dataset. Colorspace: HSV & bin interval size=1\n",
    "QueryDataset.descriptors[0].plot_histograms()"
   ]
  },
  {
   "cell_type": "markdown",
   "metadata": {},
   "source": [
    "## Task 2"
   ]
  },
  {
   "cell_type": "code",
   "execution_count": 6,
   "metadata": {},
   "outputs": [],
   "source": [
    "\"\"\"\n",
    "# TASK 2: Similarity measures\n",
    "\n",
    "Distance:\n",
    "    - Euclidean distance\n",
    "    - L1 distance\n",
    "    - χ2\n",
    "\n",
    "Similarity:\n",
    "    - Histogram intersection (similarity)\n",
    "    - Hellinger kernel (similarity)\n",
    "\"\"\"\n",
    "\n",
    "# Implementation of the distances, similarities and evaluation metrics\n",
    "from src.metrics import *"
   ]
  },
  {
   "cell_type": "markdown",
   "metadata": {},
   "source": [
    "## Task 3"
   ]
  },
  {
   "cell_type": "code",
   "execution_count": null,
   "metadata": {},
   "outputs": [],
   "source": [
    "\"\"\"\n",
    "# TASK 3: For each image in QSD1, compute similarities to museum images\n",
    "\n",
    "- Return the top k images (highest score, lowest distance)\n",
    "- Evaluation with mAP@K (mean Average Precision at K)\n",
    "\n",
    "Provide mAP@k (k=1, k=5) results for the validation query set (QSD1)\n",
    "\"\"\""
   ]
  },
  {
   "cell_type": "code",
   "execution_count": null,
   "metadata": {},
   "outputs": [],
   "source": [
    "# Return top k results\n",
    "k = 5\n",
    "\n",
    "result = [[] for _ in range(len(QueryDataset.descriptors))]\n",
    "\n",
    "for image in QueryDataset.descriptors:\n",
    "    distances_list = []\n",
    "    for image2 in BDDataset.descriptors:\n",
    "        distances = image.compute_distance(image2, type=DistanceType.l1)\n",
    "        distance = np.mean(distances) # We can play with min, max, sum ...\n",
    "        distances_list.append(distance)\n",
    "    top_k = np.argsort(distances_list)[:k]\n",
    "\n",
    "    result[image.index] = [BDDataset.descriptors[i].index for i in top_k]"
   ]
  },
  {
   "cell_type": "code",
   "execution_count": 7,
   "metadata": {},
   "outputs": [
    {
     "data": {
      "text/plain": [
       "0.46888888888888897"
      ]
     },
     "execution_count": 7,
     "metadata": {},
     "output_type": "execute_result"
    }
   ],
   "source": [
    "# Load ground truth correspondences\n",
    "with open(f'{DATA_DIRECTORY}/qsd1_w1/gt_corresps.pkl', 'rb') as f:\n",
    "    ground_truth = pickle.load(f)\n",
    "\n",
    "# Compute mAP@K for k=1 and k=5\n",
    "mapk(ground_truth, result, k=k)"
   ]
  },
  {
   "cell_type": "code",
   "execution_count": 24,
   "metadata": {},
   "outputs": [
    {
     "name": "stdout",
     "output_type": "stream",
     "text": [
      "Distance(img1, img1_bbdd): 0.5206865071937165 \n",
      "Distance(img1, rand_img_bbdd): 0.8166156570173898 \n",
      "\n",
      "Distance from image1 to it's correspondence from BBDD is lower than to a randomly selected image in BBDD. \n",
      "Things are working as expected :)\n"
     ]
    }
   ],
   "source": [
    "\"\"\"\n",
    "Let's verify that the distance from the query image to it's correspondence to on the DB is lower than a randomly selected image on the DB\n",
    "\"\"\"\n",
    "\n",
    "image1 = Image(f'{DATA_DIRECTORY}/qsd1_w1/00000.jpg', colorspace=ColorSpace.HSV) # Query (first img of the QSD1)\n",
    "\n",
    "image1_bbdd = Image(f'{DATA_DIRECTORY}/BBDD/bbdd_00120.jpg', colorspace=ColorSpace.HSV) # BBDD (same img than image1)\n",
    "rand_image_bbdd = Image(f'{DATA_DIRECTORY}/BBDD/bbdd_00229.jpg', colorspace=ColorSpace.HSV) # BBDD (random img from BBDD)\n",
    "\n",
    "\n",
    "print(\n",
    "f'Distance(img1, img1_bbdd): {np.mean(image1.compute_distance(image1_bbdd, type=DistanceType.l1))} \\n'\n",
    "f'Distance(img1, rand_img_bbdd): {np.mean(image1.compute_distance(rand_image_bbdd, type=DistanceType.l1))} \\n\\n'\n",
    "\n",
    "'Distance from image1 to it\\'s correspondence from BBDD is lower than to a randomly selected image in BBDD. \\n'\n",
    "'Things are working as expected :)'\n",
    ")"
   ]
  },
  {
   "cell_type": "markdown",
   "metadata": {},
   "source": [
    "## Task 3.5: Find top-2 methods"
   ]
  },
  {
   "cell_type": "code",
   "execution_count": null,
   "metadata": {},
   "outputs": [],
   "source": [
    "# Before submiting the results for testing with QST1, let's find the methods that work better.\n",
    "# We will try to optimize mAP@K with the parameters: Colorspace, bin_size & metric (distance or similarity)."
   ]
  },
  {
   "cell_type": "markdown",
   "metadata": {},
   "source": [
    "## Task 4"
   ]
  },
  {
   "cell_type": "code",
   "execution_count": null,
   "metadata": {},
   "outputs": [],
   "source": [
    "\"\"\" \n",
    "# TASK 4: Submit your results for a “blind” competition in QST1\n",
    "\n",
    "Format: For each test query in QST1, a list of the K=10 best results:\n",
    "    - Create a python list of lists, with the image ids (integer numbers)\n",
    "    - Example with 3 queries and K=2\n",
    "        Query: [[q1], [q2], [q3]]\n",
    "        Result: [[7,2], [76, 4], [43, 12]]\n",
    "    Where 7 corresponds to image 00007.jpg, etc.\n",
    "\"\"\""
   ]
  }
 ],
 "metadata": {
  "kernelspec": {
   "display_name": ".venv",
   "language": "python",
   "name": "python3"
  },
  "language_info": {
   "codemirror_mode": {
    "name": "ipython",
    "version": 3
   },
   "file_extension": ".py",
   "mimetype": "text/x-python",
   "name": "python",
   "nbconvert_exporter": "python",
   "pygments_lexer": "ipython3",
   "version": "3.11.4"
  }
 },
 "nbformat": 4,
 "nbformat_minor": 2
}
