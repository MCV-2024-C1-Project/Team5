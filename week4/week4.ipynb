{
 "cells": [
  {
   "cell_type": "markdown",
   "metadata": {},
   "source": [
    "# C1 - Introduction to Human and Computer Vision\n",
    "## Week 4"
   ]
  },
  {
   "cell_type": "code",
   "execution_count": 56,
   "metadata": {},
   "outputs": [],
   "source": [
    "import os\n",
    "import re\n",
    "import matplotlib.pyplot as plt\n",
    "import cv2\n",
    "import pickle\n",
    "import numpy as np\n",
    "\n",
    "# Get project's root directory\n",
    "BASE_PATH = os.path.join(re.search(r'.+(Team5)', os.getcwd())[0], 'week4')\n",
    "os.chdir(BASE_PATH)\n",
    "BASE_PATH\n",
    "\n",
    "DATA_DIRECTORY = '../data'"
   ]
  },
  {
   "cell_type": "code",
   "execution_count": 44,
   "metadata": {},
   "outputs": [],
   "source": [
    "# Read pickle file to see detailed info of the images augmentation\n",
    "with open(f'{DATA_DIRECTORY}/qsd1_w4/augmentations.pkl', 'rb') as f:\n",
    "    augmentations_info = pickle.load(f)\n",
    "\n",
    "# Read pickle file with correspondences\n",
    "with open(f'{DATA_DIRECTORY}/qsd1_w4/gt_corresps.pkl', 'rb') as f:\n",
    "    ground_truth = pickle.load(f)"
   ]
  },
  {
   "cell_type": "markdown",
   "metadata": {},
   "source": [
    "### a) Remove background, detect noise (and filter it)"
   ]
  },
  {
   "cell_type": "code",
   "execution_count": 57,
   "metadata": {},
   "outputs": [
    {
     "name": "stderr",
     "output_type": "stream",
     "text": [
      "100%|██████████| 30/30 [01:29<00:00,  2.99s/it]\n",
      "100%|██████████| 287/287 [00:03<00:00, 83.03it/s] \n"
     ]
    }
   ],
   "source": [
    "from src.background_removal import background_removal\n",
    "from src.noise_removal import denoise_image\n",
    "from tqdm import tqdm\n",
    "\n",
    "# Image names\n",
    "QSD1_w4_names = [f for f in os.listdir(f'{DATA_DIRECTORY}/qsd1_w4/') if f.endswith('.jpg')]\n",
    "QSD1_w4_names.sort()\n",
    "\n",
    "# Initialize datasets\n",
    "BBDD = []\n",
    "QSD1_w4 = []\n",
    "QSD1_w4_filtered = []\n",
    "QSD1_w4_nonAugmented = []\n",
    "\n",
    "# Load datasets (+ filter)\n",
    "for image_name in tqdm(QSD1_w4_names):\n",
    "    # Read QSD1_w4\n",
    "    image_qsd1 = cv2.imread(f'{DATA_DIRECTORY}/qsd1_w4/{image_name}')\n",
    "    QSD1_w4.append(image_qsd1)\n",
    "\n",
    "    # Read non-augmented image\n",
    "    image_nonAugmented = cv2.imread(f'{DATA_DIRECTORY}/qsd1_w4/non_augmented/{image_name}')\n",
    "    image_nonAug_bckg_remov = background_removal(denoise_image(image_nonAugmented))  # Remove background in non-augmented image\n",
    "   \n",
    "    QSD1_w4_nonAugmented.append(image_nonAug_bckg_remov)\n",
    "\n",
    "    # Filter image from QSD1_w4\n",
    "    filtered_image = background_removal(denoise_image(image_qsd1))  # Detect noise (and clean it) + Remove background\n",
    "    QSD1_w4_filtered.append(filtered_image)\n",
    "\n",
    "\n",
    "# Read BBDD\n",
    "BBDD_names = [f for f in os.listdir(f'{DATA_DIRECTORY}/BBDD/') if f.endswith('.jpg')]\n",
    "BBDD_names.sort()\n",
    "\n",
    "for image_name in tqdm(BBDD_names):\n",
    "    image_bbdd = cv2.imread(f'{DATA_DIRECTORY}/BBDD/{image_name}')\n",
    "    BBDD.append(image_bbdd)"
   ]
  },
  {
   "cell_type": "code",
   "execution_count": null,
   "metadata": {},
   "outputs": [],
   "source": [
    "# Plot some examples\n",
    "img_number = 17\n",
    "\n",
    "\n",
    "fig, axes = plt.subplots(1, 3)  # 1 fila, 3 columnas\n",
    "\n",
    "# QSD1_w4 image\n",
    "image = QSD1_w4[img_number]\n",
    "image = cv2.cvtColor(image, cv2.COLOR_BGR2RGB)\n",
    "axes[0].imshow(image)\n",
    "axes[0].set_title('QSD1_w4 image')\n",
    "axes[0].axis('Off')\n",
    "\n",
    "# Filtered image (background removal + denoise)\n",
    "image = QSD1_w4_filtered[img_number][0]\n",
    "image = cv2.cvtColor(image, cv2.COLOR_BGR2RGB)\n",
    "axes[1].imshow(image)\n",
    "axes[1].set_title('Filtered image')\n",
    "axes[1].axis('Off')\n",
    "\n",
    "# Non-augmented image\n",
    "image = QSD1_w4_nonAugmented[img_number][0]\n",
    "image = cv2.cvtColor(image, cv2.COLOR_BGR2RGB)\n",
    "axes[2].imshow(image)\n",
    "axes[2].set_title('Non-augmented image')\n",
    "axes[2].axis('Off')\n",
    "\n",
    "plt.show()\n",
    "plt.close()"
   ]
  },
  {
   "cell_type": "markdown",
   "metadata": {},
   "source": [
    "### b) Detect keypoints and compute descriptors"
   ]
  },
  {
   "cell_type": "code",
   "execution_count": null,
   "metadata": {},
   "outputs": [],
   "source": [
    "'''\n",
    "flags = {\n",
    "  DEFAULT = 0,\n",
    "  DRAW_OVER_OUTIMG = 1,\n",
    "  NOT_DRAW_SINGLE_POINTS = 2,\n",
    "  DRAW_RICH_KEYPOINTS = 4\n",
    "}\n",
    "'''\n",
    "def draw_keypoints(image, kp, flags=0):\n",
    "    gray_image = cv2.cvtColor(image, cv2.COLOR_BGR2GRAY)\n",
    "    img2 = cv2.drawKeypoints(gray_image, kp, None,(255,0,0),flags=flags)\n",
    "    plt.imshow(img2) "
   ]
  },
  {
   "cell_type": "markdown",
   "metadata": {},
   "source": [
    "#### SIFT"
   ]
  },
  {
   "cell_type": "code",
   "execution_count": null,
   "metadata": {},
   "outputs": [],
   "source": [
    "def sift_descriptor(image, params={}):\n",
    "    '''\n",
    "    Compute SIFT descriptors for a given image\n",
    "    :param image: image to compute the descriptors\n",
    "    :param params: parameters for the SIFT algorithm\n",
    "    :return: keypoints and descriptors\n",
    "\n",
    "    default params = {\n",
    "        'nfeatures': 0,\n",
    "        'nOctaveLayers': 3,\n",
    "        'contrastThreshold': 0.04,\n",
    "        'edgeThreshold': 10,\n",
    "        'sigma': 1.6\n",
    "    }\n",
    "    '''\n",
    "    img_gray = cv2.cvtColor(image, cv2.COLOR_BGR2GRAY)\n",
    "    sift = cv2.SIFT_create(**params)\n",
    "    kp, des = sift.detectAndCompute(img_gray, None)\n",
    "\n",
    "    return (kp, des)"
   ]
  },
  {
   "cell_type": "code",
   "execution_count": null,
   "metadata": {},
   "outputs": [],
   "source": [
    "\n",
    "params = {\n",
    "    'nfeatures': 1500,\n",
    "    'nOctaveLayers': 3,\n",
    "}\n",
    "\n",
    "sift_query = []\n",
    "for picture in tqdm(QSD1_w4_filtered):\n",
    "    res = []\n",
    "    for painting in picture:\n",
    "        kp, des = sift_descriptor(painting, params=params)\n",
    "        res.append({'kp': kp, 'des': des})\n",
    "    sift_query.append(res)\n",
    "\n",
    "\n",
    "sift_bd = []\n",
    "for painting in tqdm(BBDD):\n",
    "    kp, des = sift_descriptor(painting, params=params)\n",
    "    sift_bd.append({'kp': kp, 'des': des})"
   ]
  },
  {
   "cell_type": "code",
   "execution_count": null,
   "metadata": {},
   "outputs": [],
   "source": [
    "idx1 = 16 # Query image\n",
    "idx2 = 11 # BBDD image\n",
    "\n",
    "des1 = sift_query[idx1][0]['des']\n",
    "des2 = sift_bd[idx2]['des']"
   ]
  },
  {
   "cell_type": "code",
   "execution_count": null,
   "metadata": {},
   "outputs": [],
   "source": [
    "bf = cv2.BFMatcher(cv2.NORM_L2, crossCheck=True)\n",
    "# Match descriptors.\n",
    "matches = bf.match(des1,des2)\n",
    "# Sort them in the order of their distance.\n",
    "matches = sorted(matches, key = lambda x:x.distance)\n",
    "# Draw first 10 matches.\n",
    "img3 = cv2.drawMatches(\n",
    "    QSD1_w4_filtered[idx1][0], sift_query[idx1][0]['kp'],\n",
    "    BBDD[idx2], sift_bd[idx2]['kp'],\n",
    "    matches[:20], None,\n",
    "    flags=cv2.DrawMatchesFlags_NOT_DRAW_SINGLE_POINTS\n",
    ")\n",
    "print('Distance:', np.mean([m.distance for m in matches]))\n",
    "plt.imshow(img3), plt.axis('off'), plt.show()"
   ]
  },
  {
   "cell_type": "code",
   "execution_count": null,
   "metadata": {},
   "outputs": [],
   "source": [
    "bf = cv2.BFMatcher(cv2.NORM_L2, crossCheck=True)\n",
    "\n",
    "res = []\n",
    "dist_res = []\n",
    "for i in tqdm(range(30)):\n",
    "    picture_res = []\n",
    "    picture_distances = []\n",
    "    for j in range(0, len(sift_query[i])):\n",
    "        distances = []\n",
    "        for k in range(0, len(sift_bd)):\n",
    "            if sift_bd[k]['des'] is not None:\n",
    "                matches = bf.match(sift_query[i][j]['des'], sift_bd[k]['des'])\n",
    "                matches = sorted(matches, key = lambda x:x.distance)\n",
    "                # Take top 20 matches\n",
    "                distance = np.mean([match.distance for match in matches[:20]])\n",
    "                distances.append(distance)\n",
    "            else:\n",
    "                distances.append(10000)\n",
    "\n",
    "        # Take top 10 matches\n",
    "        most_similar = np.argsort(distances)[:10]\n",
    "        most_similar_distances = [distances[idx] for idx in most_similar]\n",
    "        if most_similar_distances[0] == 10000:\n",
    "            most_similar = [-1]\n",
    "            most_similar_distances = [10000]\n",
    "        if (\n",
    "            most_similar_distances[1] - most_similar_distances[0] < \n",
    "            2*np.mean(np.array(most_similar_distances[2:10]) - np.array(most_similar_distances[1:9]))\n",
    "        ):\n",
    "            most_similar = [-1]\n",
    "        picture_res.append(most_similar)\n",
    "        picture_distances.append(most_similar_distances)\n",
    "    \n",
    "    res.append(picture_res)\n",
    "    dist_res.append(picture_distances)\n"
   ]
  },
  {
   "cell_type": "code",
   "execution_count": null,
   "metadata": {},
   "outputs": [],
   "source": [
    "image = QSD1_w4_filtered[24][0]\n",
    "image = cv2.cvtColor(image, cv2.COLOR_BGR2RGB)\n",
    "plt.imshow(image)\n",
    "plt.axis('off')\n",
    "plt.show()"
   ]
  },
  {
   "cell_type": "code",
   "execution_count": null,
   "metadata": {},
   "outputs": [],
   "source": [
    "print(res)"
   ]
  },
  {
   "cell_type": "code",
   "execution_count": null,
   "metadata": {},
   "outputs": [],
   "source": [
    "import importlib\n",
    "import src.metrics  # re-import the module to make sure it's recognized\n",
    "importlib.reload(src.metrics)\n",
    "\n",
    "from src.metrics import mapk\n",
    "\n",
    "# Now you can call the updated mapk function\n",
    "mapk(ground_truth, res, k=1)\n"
   ]
  },
  {
   "cell_type": "markdown",
   "metadata": {},
   "source": [
    "#### HOG"
   ]
  },
  {
   "cell_type": "code",
   "execution_count": 70,
   "metadata": {},
   "outputs": [],
   "source": [
    "from skimage.feature import hog\n",
    "from skimage import exposure\n",
    "from scipy.spatial.distance import euclidean\n",
    "import importlib\n",
    "\n",
    "import src.metrics \n",
    "importlib.reload(src.metrics)\n",
    "from src.metrics import mapk\n",
    "\n",
    "params={\n",
    "    'shape': (100,100),  # Shape we want to resize the image to\n",
    "    'pixels_per_cell': (18,18),\n",
    "    'cells_per_block': (3,3),\n",
    "}\n",
    "\n",
    "def hog_descriptor(image, shape: tuple, pixels_per_cell: tuple, cells_per_block: tuple):\n",
    "    \n",
    "    # Image to grayscale\n",
    "    if len(image.shape) == 3:\n",
    "        image = cv2.cvtColor(image, cv2.COLOR_BGR2GRAY)\n",
    "\n",
    "    # Resize image (we need same dimensions in all the image descriptros to compare)\n",
    "    image = cv2.resize(image, shape, interpolation=cv2.INTER_AREA)\n",
    "\n",
    "    # Compute HOG\n",
    "    hog_descriptor, hog_image = hog(image, pixels_per_cell=pixels_per_cell, cells_per_block=cells_per_block, visualize=True)\n",
    "    \n",
    "    # Rescale intensity, otherwise we may see everyhing black\n",
    "    hog_image = exposure.rescale_intensity(hog_image, in_range=(0, np.max(hog_image)/10))\n",
    "\n",
    "    return hog_descriptor, hog_image\n",
    "\n",
    "# Missing taking into account that there's an unknown class\n",
    "def compute_results_hog(hog_query, hog_bd, k=5):\n",
    "    res = []\n",
    "    distances_res = []\n",
    "\n",
    "    for i in tqdm(range(30)):\n",
    "        picture_res = []\n",
    "        picture_distances = []\n",
    "        \n",
    "        # For each painting inside an image from hog_query[i]\n",
    "        for j in range(len(hog_query[i])):\n",
    "            distances = []\n",
    "\n",
    "            query_descriptor = hog_query[i][j]['descriptor']\n",
    "            for p in range(len(hog_bd)): \n",
    "                bd_descriptor = hog_bd[p]['descriptor']\n",
    "                distance = euclidean(query_descriptor, bd_descriptor)\n",
    "                distances.append((distance, p))\n",
    "\n",
    "            distances.sort(key=lambda x: x[0])\n",
    "\n",
    "            nearest_neighbors = [idx for _, idx in distances[:k]] \n",
    "            nearest_distances = [round(dist, 2) for dist, _ in distances[:k]]\n",
    "\n",
    "            picture_res.append(nearest_neighbors)\n",
    "            picture_distances.append(nearest_distances)\n",
    "\n",
    "        res.append(picture_res)\n",
    "        distances_res.append(picture_distances)\n",
    "\n",
    "    return res, distances_res\n"
   ]
  },
  {
   "cell_type": "code",
   "execution_count": 71,
   "metadata": {},
   "outputs": [
    {
     "name": "stderr",
     "output_type": "stream",
     "text": [
      "100%|██████████| 30/30 [00:00<00:00, 66.18it/s]\n",
      "100%|██████████| 287/287 [00:04<00:00, 64.04it/s]\n"
     ]
    }
   ],
   "source": [
    "# Take HOG descriptor from Query and BBDD images\n",
    "\n",
    "hog_query = []\n",
    "for picture in tqdm(QSD1_w4_filtered):\n",
    "    res = []\n",
    "    for painting in picture:    \n",
    "        des, image = hog_descriptor(painting, **params)\n",
    "        res.append({'descriptor': des, 'image': image})\n",
    "    hog_query.append(res)\n",
    "\n",
    "hog_bd = []\n",
    "for painting in tqdm(BBDD):    \n",
    "    des, image = hog_descriptor(painting, **params)\n",
    "    hog_bd.append({'descriptor': des, 'image': image})\n"
   ]
  },
  {
   "cell_type": "code",
   "execution_count": 81,
   "metadata": {},
   "outputs": [
    {
     "name": "stderr",
     "output_type": "stream",
     "text": [
      "100%|██████████| 30/30 [00:00<00:00, 362.33it/s]"
     ]
    },
    {
     "name": "stdout",
     "output_type": "stream",
     "text": [
      "[None, 0.2715437349673161, 0.33558307466259374, 0.2813112155602759, 0.3311193138432127, 0.1644384383287557, 0.24311314238436385, 0.24011663832396127, 0.32418513229326235, 0.2616409753842085, 0.23122283624244383, 0.30806492822130854, 0.14496896219536093, 0.454779067240347, 0.4673157390886808, 0.5063753548505299, 0.33941125496954283, 0.17417232845661793, 0.22199099080818574, 0.22821042920953455]\n",
      "[0.05564171097297419, 0.04621688003316541, 0.11128342194594847, 0.0733212111192935, 0.034292856398964525, None, 0.07440430095095306, 0.04317406628984579, 0.14260434775980713, 0.06852736679604723]\n",
      "[[-1], [150], [48, 251], [32], [161], [81], [62, 38], [-1], [128], [155, 258], [136, 76], [-1], [-1], [53], [-1], [12], [11, 280], [-1], [182, 252], [-1], [272, 117], [-1], [242], [260], [94, 132], [223], [-1], [127], [47, 13], [-1]]\n",
      "[[[186, 264, 283, 11, 45]], [], [[48, 57, 60, 205, 104], [251, 51, 57, 215, 281]], [[32, 88, 82, 161, 106]], [[161, 40, 137, 205, 163]], [[81, 205, 16, 119, 25]], [[62, 64, 273, 129, 30], [38, 67, 264, 101, 102]], [[264, 283, 186, 11, 101]], [[128, 113, 176, 14, 9]], [[155, 205, 119, 9, 31], [258, 223, 57, 60, 91]], [[136, 37, 174, 271, 133], [76, 142, 249, 43, 95]], [[93, 205, 202, 85, 107]], [[45, 206, 283, 218, 264]], [[53, 254, 54, 55, 198]], [[197, 16, 205, 119, 10]], [[12, 25, 221, 93, 105]], [[11, 255, 36, 170, 24], [280, 141, 273, 204, 30]], [], [[182, 137, 133, 281, 174], [252, 215, 57, 189, 225]], [[205, 16, 241, 197, 93]], [[272, 154, 281, 137, 116], [117, 233, 88, 60, 39]], [[60, 104, 177, 31, 205]], [[242, 157, 176, 248, 202]], [[260, 271, 137, 29, 163]], [[94, 225, 215, 40, 248], [132, 137, 57, 218, 104]], [[223, 174, 215, 57, 40]], [[221, 78, 93, 202, 74]], [[127, 40, 93, 205, 57]], [[47, 102, 100, 52, 183], [13, 100, 47, 102, 261]], [[45, 283, 206, 264, 165]]]\n",
      "[[[1.76, 1.76, 1.8, 1.83, 1.91]], [[1.74, 1.77, 1.78, 1.83, 1.87]], [[1.13, 1.31, 1.37, 1.43, 1.43]], [[1.96, 1.99, 2.0, 2.12, 2.14]], [[1.4, 1.41, 1.44, 1.47, 1.49]], [], [[1.05, 1.08, 1.15, 1.23, 1.23]], [[1.78, 1.79, 1.86, 1.86, 1.89]], [[1.13, 1.15, 1.18, 1.41, 1.47]], [[2.04, 2.07, 2.08, 2.19, 2.21]]]\n"
     ]
    },
    {
     "name": "stderr",
     "output_type": "stream",
     "text": [
      "\n"
     ]
    }
   ],
   "source": [
    "# Compute results\n",
    "res, distances_res = compute_results_hog(hog_query, hog_bd)\n",
    "\n",
    "unknown_images_indices = [index for index, value in enumerate(ground_truth) if value == [-1]]\n",
    "\n",
    "distances_unknown = [distances_res[index] for index in unknown_images_indices]\n",
    "# Calculamos la desviación estándar de cada sublista\n",
    "deviation_stds = []\n",
    "for sublist in distances_unknown:\n",
    "    if sublist:  # Verificar que la sublista no esté vacía\n",
    "        std = np.std(sublist[0])  # Tomamos el primer (y único) elemento de la sublista\n",
    "        deviation_stds.append(std)\n",
    "    else:\n",
    "        deviation_stds.append(None)  # Si la sublista está vacía, asignamos None\n",
    "\n",
    "\n",
    "# Obtener los índices de ground_truth que no son [-1]\n",
    "known_images_indices = [index for index, value in enumerate(ground_truth) if value != [-1]]\n",
    "\n",
    "# Obtener las sublistas correspondientes de distances_res\n",
    "distances_known = [distances_res[index] for index in known_images_indices]\n",
    "\n",
    "# Calculamos la desviación estándar de cada sublista para las imágenes conocidas\n",
    "deviation_stds_known = []\n",
    "for sublist in distances_known:\n",
    "    if sublist:  # Verificar que la sublista no esté vacía\n",
    "        std = np.std(sublist[0])  # Tomamos el primer (y único) elemento de la sublista\n",
    "        deviation_stds_known.append(std)\n",
    "    else:\n",
    "        deviation_stds_known.append(None)  # Si la sublista está vacía, asignamos None\n",
    "\n",
    "# Mostrar los resultados\n",
    "print(deviation_stds_known)\n",
    "\n",
    "# Mostrar los resultados\n",
    "print(deviation_stds)\n",
    "\n",
    "print(ground_truth)\n",
    "print(res)\n",
    "print(distances_unknown)\n",
    "\n",
    "#mapk1 = mapk(ground_truth, res, k=1)"
   ]
  },
  {
   "cell_type": "code",
   "execution_count": 69,
   "metadata": {},
   "outputs": [
    {
     "name": "stderr",
     "output_type": "stream",
     "text": [
      "100%|██████████| 30/30 [00:00<00:00, 284.92it/s]\n",
      "100%|██████████| 287/287 [00:00<00:00, 373.77it/s]\n",
      "100%|██████████| 30/30 [00:00<00:00, 477.38it/s]\n"
     ]
    },
    {
     "name": "stdout",
     "output_type": "stream",
     "text": [
      "-1 [11, 264, 186, 24, 170]\n",
      "48 [48, 244, 60, 140, 57]\n",
      "251 [251, 51, 96, 11, 215]\n",
      "32 [32, 11, 82, 193, 109]\n",
      "161 [161, 40, 241, 174, 244]\n",
      "81 [81, 60, 16, 40, 119]\n",
      "62 [62, 64, 30, 129, 106]\n",
      "38 [38, 67, 102, 52, 90]\n",
      "-1 [264, 186, 11, 101, 24]\n",
      "128 [128, 46, 241, 238, 228]\n",
      "155 [155, 92, 40, 205, 65]\n",
      "258 [258, 286, 223, 154, 163]\n",
      "136 [136, 271, 37, 220, 161]\n",
      "76 [76, 142, 65, 43, 16]\n",
      "-1 [93, 78, 16, 156, 21]\n",
      "-1 [206, 45, 283, 264, 186]\n",
      "53 [53, 93, 54, 25, 276]\n",
      "-1 [197, 156, 146, 200, 119]\n",
      "12 [12, 221, 21, 78, 187]\n",
      "11 [11, 184, 282, 255, 270]\n",
      "280 [280, 4, 235, 215, 31]\n",
      "182 [182, 133, 252, 259, 57]\n",
      "252 [225, 252, 51, 223, 215]\n",
      "-1 [16, 197, 241, 156, 205]\n",
      "272 [272, 277, 116, 252, 270]\n",
      "117 [117, 104, 60, 51, 42]\n",
      "-1 [40, 46, 60, 23, 137]\n",
      "242 [242, 74, 176, 93, 157]\n",
      "260 [260, 163, 29, 133, 271]\n",
      "94 [94, 225, 234, 215, 51]\n",
      "132 [132, 57, 218, 223, 137]\n",
      "223 [223, 58, 215, 57, 29]\n",
      "-1 [93, 78, 221, 74, 12]\n",
      "127 [127, 11, 241, 156, 40]\n",
      "47 [47, 100, 102, 192, 279]\n",
      "13 [13, 52, 100, 47, 102]\n",
      "-1 [206, 135, 163, 29, 80]\n"
     ]
    },
    {
     "name": "stderr",
     "output_type": "stream",
     "text": [
      "100%|██████████| 30/30 [00:00<00:00, 259.56it/s]\n",
      "100%|██████████| 287/287 [00:00<00:00, 456.83it/s]\n",
      "100%|██████████| 30/30 [00:00<00:00, 446.37it/s]\n"
     ]
    },
    {
     "name": "stdout",
     "output_type": "stream",
     "text": [
      "-1 [186, 264, 24, 11, 29]\n",
      "48 [48, 244, 57, 140, 286]\n",
      "251 [251, 51, 96, 215, 259]\n",
      "32 [32, 11, 88, 82, 275]\n",
      "161 [161, 40, 11, 241, 174]\n",
      "81 [81, 140, 60, 241, 105]\n",
      "62 [62, 64, 30, 129, 79]\n",
      "38 [38, 67, 102, 52, 264]\n",
      "-1 [264, 186, 283, 24, 11]\n",
      "128 [128, 46, 176, 99, 241]\n",
      "155 [155, 119, 31, 113, 60]\n",
      "258 [258, 223, 91, 286, 163]\n",
      "136 [136, 37, 271, 220, 133]\n",
      "76 [76, 249, 142, 43, 65]\n",
      "-1 [93, 205, 78, 221, 16]\n",
      "-1 [283, 45, 206, 144, 29]\n",
      "53 [53, 54, 254, 55, 198]\n",
      "-1 [156, 197, 146, 200, 119]\n",
      "12 [12, 221, 21, 78, 187]\n",
      "11 [11, 255, 36, 170, 282]\n",
      "280 [280, 4, 141, 154, 204]\n",
      "182 [182, 133, 281, 259, 144]\n",
      "252 [252, 215, 225, 118, 192]\n",
      "-1 [106, 205, 241, 197, 16]\n",
      "272 [272, 277, 154, 11, 281]\n",
      "117 [117, 233, 60, 11, 40]\n",
      "-1 [60, 104, 57, 31, 205]\n",
      "242 [242, 93, 176, 157, 74]\n",
      "260 [260, 29, 271, 163, 162]\n",
      "94 [94, 225, 261, 234, 192]\n",
      "132 [132, 57, 218, 137, 163]\n",
      "223 [223, 215, 57, 174, 91]\n",
      "-1 [93, 221, 74, 12, 21]\n",
      "127 [127, 174, 11, 40, 241]\n",
      "47 [47, 100, 102, 192, 225]\n",
      "13 [13, 100, 102, 261, 52]\n",
      "-1 [283, 45, 206, 29, 144]\n"
     ]
    },
    {
     "name": "stderr",
     "output_type": "stream",
     "text": [
      "  0%|          | 0/30 [00:00<?, ?it/s]\n"
     ]
    },
    {
     "name": "stdout",
     "output_type": "stream",
     "text": [
      "Combinación inválida {'shape': (100, 100), 'pixels_per_cell': (18, 18), 'cells_per_block': (8, 8)} debido a error: The input image is too small given the values of pixels_per_cell and cells_per_block. It should have at least: 144 rows and 144 cols.\n"
     ]
    },
    {
     "name": "stderr",
     "output_type": "stream",
     "text": [
      "100%|██████████| 30/30 [00:00<00:00, 257.88it/s]\n",
      "100%|██████████| 287/287 [00:00<00:00, 328.10it/s]\n",
      "100%|██████████| 30/30 [00:00<00:00, 432.52it/s]\n"
     ]
    },
    {
     "name": "stdout",
     "output_type": "stream",
     "text": [
      "-1 [264, 259, 101, 113, 270]\n",
      "48 [48, 106, 140, 119, 40]\n",
      "251 [251, 174, 248, 255, 259]\n",
      "32 [32, 109, 11, 140, 82]\n",
      "161 [161, 40, 92, 11, 104]\n",
      "81 [81, 40, 60, 140, 244]\n",
      "62 [30, 129, 62, 57, 163]\n",
      "38 [38, 67, 52, 114, 101]\n",
      "-1 [264, 101, 270, 24, 259]\n",
      "128 [128, 54, 241, 93, 228]\n",
      "155 [155, 40, 16, 119, 205]\n",
      "258 [258, 113, 223, 232, 88]\n",
      "136 [136, 37, 103, 271, 65]\n",
      "76 [76, 16, 205, 142, 249]\n",
      "-1 [78, 93, 16, 12, 21]\n",
      "-1 [206, 264, 190, 103, 11]\n",
      "53 [53, 238, 93, 54, 64]\n",
      "-1 [197, 146, 156, 274, 200]\n",
      "12 [12, 21, 221, 74, 78]\n",
      "11 [270, 36, 170, 245, 24]\n",
      "280 [280, 178, 57, 235, 58]\n",
      "182 [182, 259, 9, 252, 57]\n",
      "252 [252, 259, 248, 251, 51]\n",
      "-1 [16, 205, 197, 93, 106]\n",
      "272 [272, 116, 11, 118, 282]\n",
      "117 [117, 88, 104, 174, 58]\n",
      "-1 [40, 239, 93, 187, 174]\n",
      "242 [242, 176, 93, 167, 74]\n",
      "260 [260, 29, 163, 244, 40]\n",
      "94 [94, 225, 192, 259, 248]\n",
      "132 [132, 137, 103, 163, 9]\n",
      "223 [223, 259, 58, 160, 225]\n",
      "-1 [93, 12, 78, 21, 221]\n",
      "127 [127, 167, 57, 40, 93]\n",
      "47 [47, 52, 100, 102, 114]\n",
      "13 [13, 52, 100, 261, 47]\n",
      "-1 [11, 103, 163, 40, 190]\n"
     ]
    },
    {
     "name": "stderr",
     "output_type": "stream",
     "text": [
      "100%|██████████| 30/30 [00:00<00:00, 265.79it/s]\n",
      "100%|██████████| 287/287 [00:00<00:00, 329.42it/s]\n",
      "100%|██████████| 30/30 [00:00<00:00, 374.37it/s]\n"
     ]
    },
    {
     "name": "stdout",
     "output_type": "stream",
     "text": [
      "-1 [264, 45, 206, 29, 259]\n",
      "48 [48, 140, 106, 244, 64]\n",
      "251 [251, 248, 174, 40, 29]\n",
      "32 [32, 109, 11, 94, 40]\n",
      "161 [161, 40, 11, 193, 163]\n",
      "81 [81, 60, 40, 140, 193]\n",
      "62 [30, 62, 64, 129, 93]\n",
      "38 [38, 102, 52, 67, 264]\n",
      "-1 [264, 206, 259, 24, 45]\n",
      "128 [128, 241, 176, 193, 215]\n",
      "155 [155, 205, 119, 40, 60]\n",
      "258 [258, 91, 232, 113, 223]\n",
      "136 [136, 103, 271, 37, 92]\n",
      "76 [76, 142, 205, 249, 16]\n",
      "-1 [93, 78, 12, 107, 92]\n",
      "-1 [206, 264, 45, 233, 103]\n",
      "53 [53, 54, 238, 254, 25]\n",
      "-1 [197, 146, 156, 241, 16]\n",
      "12 [12, 21, 221, 187, 78]\n",
      "11 [36, 259, 24, 170, 248]\n",
      "280 [280, 178, 114, 39, 185]\n",
      "182 [182, 259, 70, 233, 187]\n",
      "252 [252, 248, 215, 259, 51]\n",
      "-1 [205, 197, 16, 93, 241]\n",
      "272 [272, 11, 193, 140, 57]\n",
      "117 [117, 88, 174, 233, 60]\n",
      "-1 [205, 187, 103, 40, 60]\n",
      "242 [242, 93, 176, 74, 167]\n",
      "260 [260, 29, 233, 259, 163]\n",
      "94 [94, 225, 174, 192, 259]\n",
      "132 [132, 137, 103, 9, 163]\n",
      "223 [223, 58, 101, 9, 218]\n",
      "-1 [93, 221, 74, 21, 12]\n",
      "127 [127, 167, 11, 40, 96]\n",
      "47 [47, 100, 52, 102, 13]\n",
      "13 [13, 52, 261, 100, 47]\n",
      "-1 [144, 233, 103, 11, 163]\n"
     ]
    },
    {
     "name": "stderr",
     "output_type": "stream",
     "text": [
      "  0%|          | 0/30 [00:00<?, ?it/s]\n"
     ]
    },
    {
     "name": "stdout",
     "output_type": "stream",
     "text": [
      "Combinación inválida {'shape': (100, 100), 'pixels_per_cell': (16, 16), 'cells_per_block': (8, 8)} debido a error: The input image is too small given the values of pixels_per_cell and cells_per_block. It should have at least: 128 rows and 128 cols.\n"
     ]
    },
    {
     "name": "stderr",
     "output_type": "stream",
     "text": [
      "100%|██████████| 30/30 [00:00<00:00, 255.13it/s]\n",
      "100%|██████████| 287/287 [00:00<00:00, 322.89it/s]\n",
      "100%|██████████| 30/30 [00:00<00:00, 414.86it/s]\n"
     ]
    },
    {
     "name": "stdout",
     "output_type": "stream",
     "text": [
      "-1 [11, 259, 282, 264, 29]\n",
      "48 [48, 88, 40, 106, 11]\n",
      "251 [251, 11, 255, 259, 282]\n",
      "32 [32, 11, 109, 84, 140]\n",
      "161 [161, 40, 11, 241, 140]\n",
      "81 [81, 60, 40, 104, 241]\n",
      "62 [30, 62, 129, 64, 79]\n",
      "38 [38, 102, 67, 52, 100]\n",
      "-1 [11, 120, 282, 259, 29]\n",
      "128 [128, 228, 54, 97, 11]\n",
      "155 [155, 40, 16, 205, 119]\n",
      "258 [258, 223, 119, 286, 29]\n",
      "136 [136, 137, 37, 161, 119]\n",
      "76 [76, 142, 16, 205, 249]\n",
      "-1 [78, 93, 16, 250, 40]\n",
      "-1 [190, 264, 206, 103, 160]\n",
      "53 [53, 238, 93, 254, 64]\n",
      "-1 [197, 119, 274, 35, 241]\n",
      "12 [12, 78, 221, 21, 74]\n",
      "11 [11, 282, 255, 184, 32]\n",
      "280 [280, 160, 225, 178, 31]\n",
      "182 [259, 223, 51, 57, 160]\n",
      "252 [252, 51, 225, 215, 259]\n",
      "-1 [205, 197, 16, 106, 78]\n",
      "272 [272, 270, 116, 277, 281]\n",
      "117 [117, 42, 51, 11, 60]\n",
      "-1 [40, 60, 104, 46, 119]\n",
      "242 [242, 176, 93, 74, 187]\n",
      "260 [260, 29, 163, 244, 259]\n",
      "94 [94, 32, 234, 215, 109]\n",
      "132 [132, 137, 103, 168, 57]\n",
      "223 [223, 58, 218, 168, 160]\n",
      "-1 [93, 78, 74, 221, 21]\n",
      "127 [127, 11, 167, 40, 156]\n",
      "47 [47, 102, 268, 52, 100]\n",
      "13 [13, 52, 183, 102, 38]\n",
      "-1 [103, 190, 160, 163, 40]\n"
     ]
    },
    {
     "name": "stderr",
     "output_type": "stream",
     "text": [
      "100%|██████████| 30/30 [00:00<00:00, 204.21it/s]\n",
      "100%|██████████| 287/287 [00:00<00:00, 329.30it/s]\n",
      "100%|██████████| 30/30 [00:00<00:00, 376.21it/s]\n"
     ]
    },
    {
     "name": "stdout",
     "output_type": "stream",
     "text": [
      "-1 [11, 29, 259, 264, 40]\n",
      "48 [48, 84, 161, 106, 140]\n",
      "251 [251, 11, 29, 259, 226]\n",
      "32 [32, 11, 109, 88, 174]\n",
      "161 [161, 40, 11, 244, 119]\n",
      "81 [81, 60, 85, 241, 104]\n",
      "62 [62, 30, 64, 276, 93]\n",
      "38 [38, 100, 102, 52, 67]\n",
      "-1 [11, 29, 259, 264, 40]\n",
      "128 [128, 176, 22, 241, 215]\n",
      "155 [155, 41, 40, 31, 205]\n",
      "258 [258, 29, 60, 119, 91]\n",
      "136 [136, 103, 37, 137, 218]\n",
      "76 [76, 249, 43, 142, 205]\n",
      "-1 [93, 78, 16, 205, 92]\n",
      "-1 [206, 118, 45, 264, 29]\n",
      "53 [53, 238, 254, 54, 25]\n",
      "-1 [197, 119, 156, 241, 35]\n",
      "12 [12, 221, 78, 21, 187]\n",
      "11 [11, 282, 255, 32, 170]\n",
      "280 [280, 160, 178, 218, 204]\n",
      "182 [182, 259, 45, 60, 51]\n",
      "252 [51, 252, 225, 215, 248]\n",
      "-1 [205, 106, 241, 197, 16]\n",
      "272 [272, 281, 11, 270, 32]\n",
      "117 [117, 60, 212, 42, 29]\n",
      "-1 [40, 60, 137, 104, 119]\n",
      "242 [242, 176, 93, 74, 107]\n",
      "260 [260, 29, 162, 259, 174]\n",
      "94 [94, 174, 234, 32, 109]\n",
      "132 [132, 137, 168, 103, 135]\n",
      "223 [223, 101, 58, 218, 168]\n",
      "-1 [93, 221, 74, 21, 78]\n",
      "127 [127, 11, 248, 174, 255]\n",
      "47 [47, 102, 52, 100, 101]\n",
      "13 [13, 52, 100, 102, 38]\n",
      "-1 [118, 206, 160, 233, 73]\n"
     ]
    },
    {
     "name": "stderr",
     "output_type": "stream",
     "text": [
      "  0%|          | 0/30 [00:00<?, ?it/s]\n"
     ]
    },
    {
     "name": "stdout",
     "output_type": "stream",
     "text": [
      "Combinación inválida {'shape': (100, 100), 'pixels_per_cell': (15, 15), 'cells_per_block': (8, 8)} debido a error: The input image is too small given the values of pixels_per_cell and cells_per_block. It should have at least: 120 rows and 120 cols.\n"
     ]
    },
    {
     "name": "stderr",
     "output_type": "stream",
     "text": [
      "100%|██████████| 30/30 [00:00<00:00, 324.44it/s]\n",
      "100%|██████████| 287/287 [00:00<00:00, 426.33it/s]\n",
      "100%|██████████| 30/30 [00:00<00:00, 459.36it/s]\n"
     ]
    },
    {
     "name": "stdout",
     "output_type": "stream",
     "text": [
      "-1 [264, 270, 11, 206, 186]\n",
      "48 [48, 286, 42, 212, 57]\n",
      "251 [251, 11, 193, 116, 255]\n",
      "32 [32, 109, 259, 11, 94]\n",
      "161 [161, 40, 104, 119, 241]\n",
      "81 [81, 60, 140, 119, 16]\n",
      "62 [62, 30, 129, 64, 106]\n",
      "38 [38, 67, 102, 101, 183]\n",
      "-1 [186, 264, 24, 270, 11]\n",
      "128 [128, 241, 46, 238, 54]\n",
      "155 [155, 92, 40, 119, 217]\n",
      "258 [258, 286, 223, 75, 113]\n",
      "136 [136, 37, 163, 161, 65]\n",
      "76 [76, 142, 10, 65, 16]\n",
      "-1 [93, 78, 16, 21, 217]\n",
      "-1 [206, 45, 5, 169, 264]\n",
      "53 [53, 64, 93, 254, 54]\n",
      "-1 [156, 197, 35, 146, 200]\n",
      "12 [12, 21, 221, 78, 187]\n",
      "11 [11, 282, 184, 24, 255]\n",
      "280 [280, 4, 39, 31, 235]\n",
      "182 [182, 259, 255, 29, 252]\n",
      "252 [160, 251, 51, 225, 11]\n",
      "-1 [205, 241, 16, 93, 78]\n",
      "272 [272, 277, 118, 252, 11]\n",
      "117 [117, 233, 104, 88, 58]\n",
      "-1 [40, 60, 104, 265, 202]\n",
      "242 [242, 176, 93, 78, 167]\n",
      "260 [260, 29, 163, 34, 259]\n",
      "94 [94, 225, 234, 32, 261]\n",
      "132 [132, 137, 57, 223, 195]\n",
      "223 [223, 104, 218, 58, 29]\n",
      "-1 [93, 78, 221, 12, 21]\n",
      "127 [127, 239, 241, 174, 156]\n",
      "47 [47, 100, 209, 13, 52]\n",
      "13 [13, 47, 52, 100, 77]\n",
      "-1 [206, 80, 237, 135, 45]\n"
     ]
    },
    {
     "name": "stderr",
     "output_type": "stream",
     "text": [
      "100%|██████████| 30/30 [00:00<00:00, 351.61it/s]\n",
      "100%|██████████| 287/287 [00:00<00:00, 446.08it/s]\n",
      "100%|██████████| 30/30 [00:00<00:00, 426.08it/s]\n"
     ]
    },
    {
     "name": "stdout",
     "output_type": "stream",
     "text": [
      "-1 [264, 206, 45, 186, 11]\n",
      "48 [48, 140, 42, 57, 286]\n",
      "251 [251, 255, 11, 193, 174]\n",
      "32 [32, 259, 11, 109, 94]\n",
      "161 [161, 40, 104, 163, 11]\n",
      "81 [81, 140, 60, 193, 241]\n",
      "62 [62, 64, 129, 30, 93]\n",
      "38 [38, 102, 67, 101, 100]\n",
      "-1 [45, 186, 264, 24, 255]\n",
      "128 [128, 99, 113, 14, 9]\n",
      "155 [155, 119, 113, 40, 31]\n",
      "258 [258, 286, 223, 163, 91]\n",
      "136 [136, 37, 133, 271, 163]\n",
      "76 [76, 249, 10, 43, 142]\n",
      "-1 [93, 205, 78, 16, 21]\n",
      "-1 [45, 206, 80, 165, 26]\n",
      "53 [53, 54, 55, 254, 129]\n",
      "-1 [156, 197, 35, 146, 60]\n",
      "12 [12, 21, 221, 78, 187]\n",
      "11 [11, 282, 255, 24, 170]\n",
      "280 [280, 58, 39, 141, 178]\n",
      "182 [182, 233, 259, 144, 133]\n",
      "252 [215, 186, 252, 160, 225]\n",
      "-1 [241, 205, 106, 197, 93]\n",
      "272 [272, 11, 118, 193, 252]\n",
      "117 [117, 233, 88, 21, 60]\n",
      "-1 [60, 104, 57, 187, 40]\n",
      "242 [242, 176, 93, 74, 126]\n",
      "260 [260, 29, 259, 271, 162]\n",
      "94 [94, 225, 234, 261, 248]\n",
      "132 [132, 163, 137, 103, 57]\n",
      "223 [223, 58, 174, 104, 101]\n",
      "-1 [93, 221, 21, 74, 12]\n",
      "127 [127, 174, 241, 11, 248]\n",
      "47 [47, 100, 13, 52, 102]\n",
      "13 [13, 47, 52, 100, 261]\n",
      "-1 [45, 80, 206, 144, 135]\n"
     ]
    },
    {
     "name": "stderr",
     "output_type": "stream",
     "text": [
      "  0%|          | 0/30 [00:00<?, ?it/s]\n"
     ]
    },
    {
     "name": "stdout",
     "output_type": "stream",
     "text": [
      "Combinación inválida {'shape': (100, 100), 'pixels_per_cell': (17, 17), 'cells_per_block': (8, 8)} debido a error: The input image is too small given the values of pixels_per_cell and cells_per_block. It should have at least: 136 rows and 136 cols.\n"
     ]
    },
    {
     "name": "stderr",
     "output_type": "stream",
     "text": [
      "100%|██████████| 30/30 [00:00<00:00, 340.12it/s]\n",
      "100%|██████████| 287/287 [00:00<00:00, 417.05it/s]\n",
      "100%|██████████| 30/30 [00:00<00:00, 454.52it/s]\n"
     ]
    },
    {
     "name": "stdout",
     "output_type": "stream",
     "text": [
      "-1 [45, 186, 259, 264, 24]\n",
      "48 [48, 147, 60, 119, 106]\n",
      "251 [251, 259, 51, 11, 91]\n",
      "32 [32, 11, 88, 147, 109]\n",
      "161 [161, 11, 16, 81, 193]\n",
      "81 [81, 119, 93, 35, 239]\n",
      "62 [30, 180, 235, 129, 147]\n",
      "38 [38, 264, 67, 114, 101]\n",
      "-1 [259, 264, 24, 170, 45]\n",
      "128 [128, 107, 187, 46, 248]\n",
      "155 [155, 187, 205, 142, 167]\n",
      "258 [258, 29, 113, 186, 160]\n",
      "136 [136, 271, 226, 163, 37]\n",
      "76 [76, 142, 16, 10, 37]\n",
      "-1 [78, 187, 107, 35, 82]\n",
      "-1 [283, 45, 264, 222, 206]\n",
      "53 [53, 238, 254, 54, 65]\n",
      "-1 [197, 81, 35, 200, 146]\n",
      "12 [12, 221, 21, 187, 78]\n",
      "11 [24, 36, 259, 170, 186]\n",
      "280 [280, 235, 178, 223, 9]\n",
      "182 [182, 160, 281, 58, 252]\n",
      "252 [252, 192, 259, 255, 58]\n",
      "-1 [16, 205, 78, 106, 156]\n",
      "272 [272, 232, 259, 91, 118]\n",
      "117 [117, 51, 104, 60, 147]\n",
      "-1 [140, 60, 40, 103, 174]\n",
      "242 [242, 248, 157, 167, 221]\n",
      "260 [260, 29, 163, 43, 271]\n",
      "94 [94, 234, 225, 192, 32]\n",
      "132 [132, 137, 218, 103, 135]\n",
      "223 [223, 160, 259, 40, 58]\n",
      "-1 [221, 78, 12, 276, 156]\n",
      "127 [127, 40, 11, 104, 29]\n",
      "47 [47, 268, 24, 100, 102]\n",
      "13 [100, 77, 13, 257, 261]\n",
      "-1 [283, 260, 135, 163, 277]\n"
     ]
    },
    {
     "name": "stderr",
     "output_type": "stream",
     "text": [
      "100%|██████████| 30/30 [00:00<00:00, 365.35it/s]\n",
      "100%|██████████| 287/287 [00:00<00:00, 460.46it/s]\n",
      "100%|██████████| 30/30 [00:00<00:00, 430.97it/s]\n"
     ]
    },
    {
     "name": "stdout",
     "output_type": "stream",
     "text": [
      "-1 [45, 259, 264, 186, 36]\n",
      "48 [48, 244, 106, 116, 35]\n",
      "251 [251, 174, 109, 259, 58]\n",
      "32 [32, 11, 88, 161, 91]\n",
      "161 [161, 11, 40, 81, 174]\n",
      "81 [81, 85, 60, 239, 212]\n",
      "62 [30, 62, 64, 57, 235]\n",
      "38 [38, 264, 101, 283, 144]\n",
      "-1 [45, 259, 264, 283, 186]\n",
      "128 [128, 107, 105, 74, 176]\n",
      "155 [155, 41, 205, 223, 167]\n",
      "258 [258, 58, 160, 113, 259]\n",
      "136 [136, 226, 271, 133, 92]\n",
      "76 [76, 249, 43, 142, 16]\n",
      "-1 [205, 107, 265, 78, 187]\n",
      "-1 [283, 45, 277, 264, 222]\n",
      "53 [53, 54, 238, 198, 254]\n",
      "-1 [81, 197, 200, 35, 146]\n",
      "12 [12, 221, 21, 187, 105]\n",
      "11 [36, 259, 24, 170, 186]\n",
      "280 [280, 223, 178, 235, 114]\n",
      "182 [182, 60, 212, 113, 58]\n",
      "252 [252, 58, 255, 192, 259]\n",
      "-1 [16, 205, 106, 156, 241]\n",
      "272 [272, 232, 91, 58, 277]\n",
      "117 [117, 60, 225, 233, 51]\n",
      "-1 [140, 31, 218, 9, 103]\n",
      "242 [242, 157, 202, 176, 276]\n",
      "260 [260, 29, 163, 170, 162]\n",
      "94 [94, 225, 192, 234, 32]\n",
      "132 [132, 218, 137, 9, 103]\n",
      "223 [223, 40, 101, 58, 103]\n",
      "-1 [221, 12, 276, 156, 78]\n",
      "127 [127, 40, 11, 85, 42]\n",
      "47 [47, 100, 102, 24, 192]\n",
      "13 [13, 100, 261, 52, 77]\n",
      "-1 [283, 277, 260, 45, 135]\n"
     ]
    },
    {
     "name": "stderr",
     "output_type": "stream",
     "text": [
      "  0%|          | 0/30 [00:00<?, ?it/s]\n"
     ]
    },
    {
     "name": "stdout",
     "output_type": "stream",
     "text": [
      "Combinación inválida {'shape': (90, 90), 'pixels_per_cell': (18, 18), 'cells_per_block': (8, 8)} debido a error: The input image is too small given the values of pixels_per_cell and cells_per_block. It should have at least: 144 rows and 144 cols.\n"
     ]
    },
    {
     "name": "stderr",
     "output_type": "stream",
     "text": [
      "100%|██████████| 30/30 [00:00<00:00, 348.02it/s]\n",
      "100%|██████████| 287/287 [00:00<00:00, 449.13it/s]\n",
      "100%|██████████| 30/30 [00:00<00:00, 465.03it/s]\n"
     ]
    },
    {
     "name": "stdout",
     "output_type": "stream",
     "text": [
      "-1 [11, 186, 259, 135, 29]\n",
      "48 [48, 42, 51, 286, 167]\n",
      "251 [251, 51, 11, 96, 116]\n",
      "32 [32, 11, 84, 248, 109]\n",
      "161 [161, 40, 241, 11, 174]\n",
      "81 [81, 241, 79, 105, 205]\n",
      "62 [62, 30, 64, 129, 243]\n",
      "38 [38, 67, 101, 90, 100]\n",
      "-1 [259, 186, 11, 29, 264]\n",
      "128 [128, 238, 74, 241, 46]\n",
      "155 [155, 119, 92, 60, 217]\n",
      "258 [258, 223, 286, 91, 160]\n",
      "136 [136, 37, 271, 163, 19]\n",
      "76 [76, 16, 142, 10, 65]\n",
      "-1 [205, 78, 74, 12, 274]\n",
      "-1 [206, 218, 45, 135, 264]\n",
      "53 [53, 93, 54, 254, 64]\n",
      "-1 [197, 156, 81, 119, 105]\n",
      "12 [12, 78, 221, 21, 187]\n",
      "11 [11, 184, 282, 36, 255]\n",
      "280 [280, 4, 199, 147, 31]\n",
      "182 [182, 259, 252, 57, 192]\n",
      "252 [252, 223, 160, 215, 225]\n",
      "-1 [205, 16, 78, 241, 217]\n",
      "272 [272, 277, 270, 251, 116]\n",
      "117 [117, 104, 60, 51, 11]\n",
      "-1 [40, 140, 60, 93, 250]\n",
      "242 [242, 176, 248, 74, 221]\n",
      "260 [260, 29, 163, 174, 271]\n",
      "94 [94, 234, 225, 32, 215]\n",
      "132 [132, 137, 57, 9, 223]\n",
      "223 [223, 58, 51, 215, 57]\n",
      "-1 [221, 78, 12, 276, 25]\n",
      "127 [127, 11, 104, 239, 40]\n",
      "47 [47, 100, 183, 279, 209]\n",
      "13 [13, 100, 47, 77, 183]\n",
      "-1 [135, 206, 218, 37, 45]\n"
     ]
    },
    {
     "name": "stderr",
     "output_type": "stream",
     "text": [
      "100%|██████████| 30/30 [00:00<00:00, 265.33it/s]\n",
      "100%|██████████| 287/287 [00:00<00:00, 465.50it/s]\n",
      "100%|██████████| 30/30 [00:00<00:00, 445.82it/s]\n"
     ]
    },
    {
     "name": "stdout",
     "output_type": "stream",
     "text": [
      "-1 [186, 259, 45, 29, 11]\n",
      "48 [48, 244, 42, 286, 51]\n",
      "251 [251, 51, 96, 281, 259]\n",
      "32 [32, 11, 88, 259, 84]\n",
      "161 [161, 40, 163, 11, 174]\n",
      "81 [81, 241, 60, 140, 85]\n",
      "62 [62, 30, 64, 129, 93]\n",
      "38 [38, 67, 101, 264, 100]\n",
      "-1 [186, 259, 45, 264, 29]\n",
      "128 [128, 14, 46, 9, 238]\n",
      "155 [155, 60, 119, 113, 217]\n",
      "258 [258, 223, 91, 252, 163]\n",
      "136 [136, 37, 174, 271, 133]\n",
      "76 [76, 249, 142, 95, 43]\n",
      "-1 [205, 193, 217, 140, 241]\n",
      "-1 [283, 45, 206, 218, 264]\n",
      "53 [53, 54, 55, 19, 254]\n",
      "-1 [197, 81, 156, 93, 200]\n",
      "12 [12, 221, 21, 78, 105]\n",
      "11 [11, 259, 255, 282, 36]\n",
      "280 [280, 4, 141, 58, 3]\n",
      "182 [182, 133, 281, 259, 174]\n",
      "252 [252, 215, 192, 186, 225]\n",
      "-1 [205, 16, 104, 106, 193]\n",
      "272 [272, 154, 281, 277, 118]\n",
      "117 [117, 233, 60, 11, 191]\n",
      "-1 [31, 104, 60, 265, 140]\n",
      "242 [242, 176, 248, 157, 74]\n",
      "260 [260, 29, 271, 174, 32]\n",
      "94 [94, 234, 225, 192, 261]\n",
      "132 [132, 137, 57, 51, 104]\n",
      "223 [223, 91, 57, 40, 58]\n",
      "-1 [221, 12, 105, 156, 25]\n",
      "127 [127, 11, 40, 174, 248]\n",
      "47 [47, 100, 183, 102, 192]\n",
      "13 [13, 100, 47, 261, 102]\n",
      "-1 [283, 45, 206, 135, 144]\n"
     ]
    },
    {
     "name": "stderr",
     "output_type": "stream",
     "text": [
      "  0%|          | 0/30 [00:00<?, ?it/s]\n"
     ]
    },
    {
     "name": "stdout",
     "output_type": "stream",
     "text": [
      "Combinación inválida {'shape': (90, 90), 'pixels_per_cell': (16, 16), 'cells_per_block': (8, 8)} debido a error: The input image is too small given the values of pixels_per_cell and cells_per_block. It should have at least: 128 rows and 128 cols.\n"
     ]
    },
    {
     "name": "stderr",
     "output_type": "stream",
     "text": [
      "100%|██████████| 30/30 [00:00<00:00, 262.02it/s]\n",
      "100%|██████████| 287/287 [00:00<00:00, 329.10it/s]\n",
      "100%|██████████| 30/30 [00:00<00:00, 416.41it/s]\n"
     ]
    },
    {
     "name": "stdout",
     "output_type": "stream",
     "text": [
      "-1 [264, 186, 259, 45, 24]\n",
      "48 [48, 106, 286, 42, 239]\n",
      "251 [251, 255, 11, 51, 282]\n",
      "32 [32, 11, 248, 147, 109]\n",
      "161 [161, 11, 40, 254, 137]\n",
      "81 [81, 93, 197, 104, 187]\n",
      "62 [30, 129, 226, 180, 57]\n",
      "38 [38, 67, 101, 114, 102]\n",
      "-1 [259, 24, 264, 45, 170]\n",
      "128 [128, 238, 46, 241, 92]\n",
      "155 [155, 119, 205, 16, 40]\n",
      "258 [258, 113, 29, 91, 186]\n",
      "136 [136, 37, 163, 271, 218]\n",
      "76 [76, 16, 65, 142, 205]\n",
      "-1 [78, 12, 197, 217, 107]\n",
      "-1 [283, 186, 206, 190, 45]\n",
      "53 [53, 54, 254, 238, 93]\n",
      "-1 [197, 146, 81, 64, 93]\n",
      "12 [12, 221, 78, 21, 187]\n",
      "11 [24, 259, 36, 282, 270]\n",
      "280 [280, 58, 101, 192, 160]\n",
      "182 [182, 255, 252, 160, 259]\n",
      "252 [160, 252, 255, 251, 192]\n",
      "-1 [16, 205, 217, 78, 197]\n",
      "272 [272, 116, 154, 11, 118]\n",
      "117 [117, 29, 58, 233, 60]\n",
      "-1 [60, 40, 140, 187, 104]\n",
      "242 [242, 248, 176, 85, 239]\n",
      "260 [260, 29, 163, 271, 40]\n",
      "94 [94, 225, 234, 32, 215]\n",
      "132 [132, 137, 174, 223, 103]\n",
      "223 [223, 160, 225, 58, 9]\n",
      "-1 [221, 78, 12, 93, 25]\n",
      "127 [127, 40, 104, 239, 11]\n",
      "47 [47, 100, 209, 13, 52]\n",
      "13 [13, 47, 100, 77, 261]\n",
      "-1 [190, 206, 186, 80, 283]\n"
     ]
    },
    {
     "name": "stderr",
     "output_type": "stream",
     "text": [
      "100%|██████████| 30/30 [00:00<00:00, 270.08it/s]\n",
      "100%|██████████| 287/287 [00:00<00:00, 342.27it/s]\n",
      "100%|██████████| 30/30 [00:00<00:00, 364.25it/s]\n"
     ]
    },
    {
     "name": "stdout",
     "output_type": "stream",
     "text": [
      "-1 [45, 264, 259, 206, 186]\n",
      "48 [48, 42, 106, 286, 244]\n",
      "251 [251, 255, 40, 11, 116]\n",
      "32 [32, 11, 259, 248, 94]\n",
      "161 [161, 40, 11, 174, 163]\n",
      "81 [81, 140, 104, 85, 42]\n",
      "62 [30, 93, 64, 62, 57]\n",
      "38 [38, 67, 101, 102, 264]\n",
      "-1 [45, 259, 264, 24, 170]\n",
      "128 [128, 238, 241, 248, 193]\n",
      "155 [155, 205, 113, 60, 92]\n",
      "258 [258, 91, 163, 286, 113]\n",
      "136 [136, 37, 271, 133, 163]\n",
      "76 [76, 43, 249, 10, 16]\n",
      "-1 [205, 107, 12, 78, 197]\n",
      "-1 [283, 206, 45, 144, 186]\n",
      "53 [53, 54, 254, 238, 167]\n",
      "-1 [197, 93, 81, 146, 156]\n",
      "12 [12, 221, 21, 78, 187]\n",
      "11 [259, 36, 24, 170, 11]\n",
      "280 [280, 4, 141, 101, 58]\n",
      "182 [182, 255, 233, 259, 160]\n",
      "252 [160, 192, 252, 58, 251]\n",
      "-1 [205, 106, 197, 16, 217]\n",
      "272 [272, 11, 154, 282, 118]\n",
      "117 [117, 233, 29, 58, 88]\n",
      "-1 [187, 60, 104, 140, 40]\n",
      "242 [242, 176, 248, 221, 74]\n",
      "260 [260, 29, 32, 271, 40]\n",
      "94 [94, 225, 234, 192, 32]\n",
      "132 [132, 137, 57, 103, 174]\n",
      "223 [223, 160, 58, 101, 225]\n",
      "-1 [221, 12, 156, 78, 107]\n",
      "127 [127, 40, 11, 239, 174]\n",
      "47 [47, 100, 192, 13, 52]\n",
      "13 [13, 100, 47, 261, 192]\n",
      "-1 [206, 45, 283, 80, 186]\n"
     ]
    },
    {
     "name": "stderr",
     "output_type": "stream",
     "text": [
      "  0%|          | 0/30 [00:00<?, ?it/s]\n"
     ]
    },
    {
     "name": "stdout",
     "output_type": "stream",
     "text": [
      "Combinación inválida {'shape': (90, 90), 'pixels_per_cell': (15, 15), 'cells_per_block': (8, 8)} debido a error: The input image is too small given the values of pixels_per_cell and cells_per_block. It should have at least: 120 rows and 120 cols.\n"
     ]
    },
    {
     "name": "stderr",
     "output_type": "stream",
     "text": [
      "100%|██████████| 30/30 [00:00<00:00, 347.96it/s]\n",
      "100%|██████████| 287/287 [00:00<00:00, 446.34it/s]\n",
      "100%|██████████| 30/30 [00:00<00:00, 463.39it/s]\n"
     ]
    },
    {
     "name": "stdout",
     "output_type": "stream",
     "text": [
      "-1 [264, 259, 135, 186, 11]\n",
      "48 [48, 119, 244, 106, 88]\n",
      "251 [251, 96, 11, 51, 40]\n",
      "32 [32, 11, 109, 161, 82]\n",
      "161 [161, 40, 16, 274, 81]\n",
      "81 [81, 241, 197, 161, 16]\n",
      "62 [30, 62, 129, 133, 147]\n",
      "38 [38, 52, 101, 264, 91]\n",
      "-1 [264, 259, 29, 174, 101]\n",
      "128 [128, 238, 107, 187, 46]\n",
      "155 [155, 205, 92, 16, 217]\n",
      "258 [258, 223, 232, 29, 113]\n",
      "136 [136, 37, 92, 19, 143]\n",
      "76 [76, 10, 16, 205, 249]\n",
      "-1 [78, 205, 16, 21, 12]\n",
      "-1 [283, 218, 264, 135, 206]\n",
      "53 [53, 238, 276, 25, 93]\n",
      "-1 [197, 81, 35, 119, 93]\n",
      "12 [12, 221, 21, 105, 187]\n",
      "11 [24, 259, 170, 186, 245]\n",
      "280 [280, 235, 31, 133, 4]\n",
      "182 [182, 57, 31, 281, 252]\n",
      "252 [252, 248, 192, 259, 51]\n",
      "-1 [16, 205, 241, 197, 78]\n",
      "272 [272, 232, 116, 246, 139]\n",
      "117 [117, 104, 60, 51, 42]\n",
      "-1 [140, 250, 78, 60, 119]\n",
      "242 [242, 74, 157, 221, 107]\n",
      "260 [260, 29, 174, 163, 147]\n",
      "94 [94, 225, 192, 215, 248]\n",
      "132 [132, 218, 137, 9, 57]\n",
      "223 [223, 58, 91, 160, 259]\n",
      "-1 [78, 221, 12, 276, 25]\n",
      "127 [127, 11, 104, 40, 239]\n",
      "47 [47, 100, 102, 279, 184]\n",
      "13 [47, 100, 102, 77, 261]\n",
      "-1 [135, 218, 143, 137, 283]\n"
     ]
    },
    {
     "name": "stderr",
     "output_type": "stream",
     "text": [
      "100%|██████████| 30/30 [00:00<00:00, 372.55it/s]\n",
      "100%|██████████| 287/287 [00:00<00:00, 469.13it/s]\n",
      "100%|██████████| 30/30 [00:00<00:00, 429.23it/s]\n"
     ]
    },
    {
     "name": "stdout",
     "output_type": "stream",
     "text": [
      "-1 [264, 45, 259, 186, 29]\n",
      "48 [48, 244, 116, 106, 119]\n",
      "251 [251, 96, 109, 51, 174]\n",
      "32 [32, 11, 161, 82, 88]\n",
      "161 [161, 40, 137, 11, 81]\n",
      "81 [81, 60, 241, 40, 239]\n",
      "62 [30, 62, 64, 129, 79]\n",
      "38 [38, 52, 264, 101, 45]\n",
      "-1 [264, 259, 29, 101, 45]\n",
      "128 [128, 176, 107, 46, 105]\n",
      "155 [155, 217, 41, 205, 60]\n",
      "258 [258, 223, 232, 58, 91]\n",
      "136 [136, 37, 92, 174, 226]\n",
      "76 [76, 249, 43, 191, 142]\n",
      "-1 [205, 16, 78, 265, 82]\n",
      "-1 [283, 135, 45, 218, 277]\n",
      "53 [53, 54, 198, 254, 145]\n",
      "-1 [81, 197, 35, 156, 146]\n",
      "12 [12, 105, 221, 21, 187]\n",
      "11 [259, 170, 186, 24, 118]\n",
      "280 [280, 4, 31, 243, 30]\n",
      "182 [182, 60, 174, 281, 133]\n",
      "252 [252, 248, 192, 215, 51]\n",
      "-1 [205, 16, 81, 241, 104]\n",
      "272 [272, 232, 277, 154, 11]\n",
      "117 [117, 60, 233, 225, 51]\n",
      "-1 [31, 82, 205, 78, 265]\n",
      "242 [242, 157, 176, 202, 221]\n",
      "260 [260, 29, 174, 271, 163]\n",
      "94 [94, 225, 192, 261, 100]\n",
      "132 [132, 57, 218, 137, 103]\n",
      "223 [223, 91, 58, 57, 252]\n",
      "-1 [221, 12, 78, 105, 156]\n",
      "127 [127, 11, 40, 60, 174]\n",
      "47 [47, 100, 102, 192, 24]\n",
      "13 [100, 102, 47, 261, 77]\n",
      "-1 [283, 135, 233, 218, 73]\n"
     ]
    },
    {
     "name": "stderr",
     "output_type": "stream",
     "text": [
      "  0%|          | 0/30 [00:00<?, ?it/s]"
     ]
    },
    {
     "name": "stdout",
     "output_type": "stream",
     "text": [
      "Combinación inválida {'shape': (90, 90), 'pixels_per_cell': (17, 17), 'cells_per_block': (8, 8)} debido a error: The input image is too small given the values of pixels_per_cell and cells_per_block. It should have at least: 136 rows and 136 cols.\n",
      "Búsqueda de parámetros completada. Resultados guardados en 'mejores_resultados.txt'.\n"
     ]
    },
    {
     "name": "stderr",
     "output_type": "stream",
     "text": [
      "\n"
     ]
    }
   ],
   "source": [
    "import itertools\n",
    "import cv2\n",
    "from tqdm import tqdm\n",
    "\n",
    "# Definir combinaciones de parámetros\n",
    "shapes = [(100,100), (90,90)]\n",
    "pixels_per_cells = [(18, 18), (16, 16), (15,15), (17,17)]\n",
    "cells_per_blocks = [(2, 2), (3,3), (8,8)]\n",
    "\n",
    "# Inicializar lista de resultados\n",
    "resultados = []\n",
    "\n",
    "# Bucle para probar todas las combinaciones de parámetros\n",
    "for shape, pixels_per_cell, cells_per_block in itertools.product(shapes, pixels_per_cells, cells_per_blocks):\n",
    "    try:\n",
    "        # Configuración de parámetros actuales\n",
    "        params = {\n",
    "            'shape': shape,\n",
    "            'pixels_per_cell': pixels_per_cell,\n",
    "            'cells_per_block': cells_per_block,\n",
    "        }\n",
    "\n",
    "        # Aplicar HOG en imágenes de consulta (Query)\n",
    "        hog_query = []\n",
    "        for picture in tqdm(QSD1_w4_filtered):\n",
    "            res = []\n",
    "            for painting in picture:\n",
    "                # Redimensionar la imagen según el parámetro `shape`\n",
    "                painting_resized = cv2.resize(painting, params['shape'])\n",
    "                # Calcular el HOG con los parámetros actuales\n",
    "                des, image = hog_descriptor(painting_resized, **params)\n",
    "                res.append({'descriptor': des, 'image': image})\n",
    "            hog_query.append(res)\n",
    "\n",
    "        # Aplicar HOG en imágenes de la base de datos (BBDD)\n",
    "        hog_bd = []\n",
    "        for painting in tqdm(BBDD):\n",
    "            painting_resized = cv2.resize(painting, params['shape'])\n",
    "            des, image = hog_descriptor(painting_resized, **params)\n",
    "            hog_bd.append({'descriptor': des, 'image': image})\n",
    "\n",
    "        # Calcular los resultados de similitud usando HOG\n",
    "        res, distances_res = compute_results_hog(hog_query, hog_bd)\n",
    "        score = mapk(ground_truth, res, k=1)  # Calcula la puntuación para esta combinación\n",
    "\n",
    "        # Guardar la combinación y su puntaje\n",
    "        resultados.append((params, score))\n",
    "\n",
    "    except ValueError as e:\n",
    "        print(f\"Combinación inválida {params} debido a error: {e}\")\n",
    "        continue  # Pasar a la siguiente combinación en caso de error\n",
    "\n",
    "# Ordenar los resultados por puntaje (de mayor a menor)\n",
    "resultados.sort(key=lambda x: x[1], reverse=True)\n",
    "\n",
    "# Guardar los mejores resultados en un archivo\n",
    "with open(\"mejores_resultados.txt\", \"w\") as f:\n",
    "    for params, score in resultados:\n",
    "        f.write(f\"Parámetros: {params}, Score: {score}\\n\")\n",
    "\n",
    "print(\"Búsqueda de parámetros completada. Resultados guardados en 'mejores_resultados.txt'.\")"
   ]
  },
  {
   "cell_type": "markdown",
   "metadata": {},
   "source": [
    "#### DAISY"
   ]
  },
  {
   "cell_type": "code",
   "execution_count": null,
   "metadata": {},
   "outputs": [],
   "source": [
    "from skimage.feature import daisy\n",
    "\n",
    "def daisy_descriptor(image, step=250, radius=50, rings=3, histograms=6, orientations=8):\n",
    "    # Convertimos la imagen a escala de grises\n",
    "    gray_image = cv2.cvtColor(image, cv2.COLOR_BGR2GRAY)\n",
    "    \n",
    "    # Calculamos los descriptores DAISY sin visualización\n",
    "    descriptors, dsc_image = daisy(\n",
    "        gray_image,\n",
    "        step=step,\n",
    "        radius=radius,\n",
    "        rings=rings,\n",
    "        histograms=histograms,\n",
    "        orientations=orientations,\n",
    "        visualize=True\n",
    "    )\n",
    "    \n",
    "    return descriptors, dsc_image\n"
   ]
  },
  {
   "cell_type": "code",
   "execution_count": null,
   "metadata": {},
   "outputs": [],
   "source": [
    "def daisy_descriptor(image, step=158, radius=50, rings=3, histograms=6, orientations=8):\n",
    "    # Convertimos la imagen a escala de grises\n",
    "    gray_image = cv2.cvtColor(image, cv2.COLOR_BGR2GRAY)\n",
    "    \n",
    "    # Usamos un detector de keypoints (aquí FAST, pero puedes usar otros)\n",
    "    fast = cv2.FastFeatureDetector_create()\n",
    "    keypoints = fast.detect(gray_image, None)\n",
    "    \n",
    "    # Calculamos los descriptores DAISY en los puntos clave detectados\n",
    "    descriptors = daisy(\n",
    "        gray_image,\n",
    "        step=step,\n",
    "        radius=radius,\n",
    "        rings=rings,\n",
    "        histograms=histograms,\n",
    "        orientations=orientations,\n",
    "        visualize=False\n",
    "    )\n",
    "    \n",
    "    # Alineamos los descriptores con los keypoints (si es necesario)\n",
    "    keypoints_daisy = []\n",
    "    keypoint_descriptors = []\n",
    "    \n",
    "    for kp in keypoints:\n",
    "        # Para cada keypoint, calculamos su posición (en coordenadas de píxeles)\n",
    "        y, x = kp.pt\n",
    "        x, y = int(x), int(y)\n",
    "        \n",
    "        # Aquí usamos una verificación simple, que si el keypoint está dentro de la imagen\n",
    "        if x < descriptors.shape[1] and y < descriptors.shape[0]:\n",
    "            keypoints_daisy.append(kp)\n",
    "            keypoint_descriptors.append(descriptors[y, x, :])  # Tomamos el descriptor en esa ubicación\n",
    "    \n",
    "    # Convertimos las listas a arrays de numpy para facilitar el uso\n",
    "    keypoints_daisy = np.array(keypoints_daisy)\n",
    "    keypoint_descriptors = np.array(keypoint_descriptors)\n",
    "    \n",
    "    return keypoints_daisy, keypoint_descriptors"
   ]
  },
  {
   "cell_type": "code",
   "execution_count": null,
   "metadata": {},
   "outputs": [],
   "source": [
    "daisy_query = []\n",
    "for picture in tqdm(QSD1_w4_filtered[:4]):\n",
    "    for painting in picture:\n",
    "        kp, des = daisy_descriptor(painting)\n",
    "        daisy_query.append({'kp': kp, 'des': des})\n",
    "\n",
    "\n",
    "daisy_bd = []\n",
    "for picture in tqdm(QSD1_w4_nonAugmented[:4]):\n",
    "    for painting in picture:\n",
    "        kp, des = daisy_descriptor(painting)\n",
    "        daisy_bd.append({'kp': kp, 'des': des})"
   ]
  },
  {
   "cell_type": "code",
   "execution_count": null,
   "metadata": {},
   "outputs": [],
   "source": [
    "# Mostrar la imagen original y la visualización del descriptor DAISY\n",
    "plt.figure(figsize=(12, 6))\n",
    "plt.subplot(1, 2, 1)\n",
    "plt.imshow(image, cmap='gray')\n",
    "plt.title('Imagen original')\n",
    "plt.axis('off')\n",
    "\n",
    "plt.subplot(1, 2, 2)\n",
    "plt.imshow(dsc_image, cmap='gray')\n",
    "plt.title('Descriptor DAISY')\n",
    "plt.axis('off')\n",
    "\n",
    "plt.show()\n",
    "\n",
    "# 2\n",
    "plt.figure(figsize=(12, 6))\n",
    "plt.subplot(1, 2, 1)\n",
    "plt.imshow(image1, cmap='gray')\n",
    "plt.title('Imagen original')\n",
    "plt.axis('off')\n",
    "\n",
    "plt.subplot(1, 2, 2)\n",
    "plt.imshow(dsc_image1, cmap='gray')\n",
    "plt.title('Descriptor DAISY')\n",
    "plt.axis('off')\n",
    "\n",
    "plt.show()"
   ]
  },
  {
   "cell_type": "code",
   "execution_count": null,
   "metadata": {},
   "outputs": [],
   "source": [
    "# Convertir descriptores a tipo float32 para el matcher de OpenCV\n",
    "descriptors = des_daisy.astype(np.float32).reshape(-1, 152)\n",
    "descriptors1 = des_daisy1.astype(np.float32).reshape(-1, 152)\n",
    "\n",
    "# Crear el matcher Brute-Force con la métrica de distancia Euclidiana\n",
    "bf = cv2.BFMatcher(cv2.NORM_L2, crossCheck=True)\n",
    "\n",
    "# Encontrar las mejores coincidencias\n",
    "matches = bf.match(descriptors, descriptors1)\n",
    "\n",
    "# Ordenar las coincidencias por distancia (las más cercanas son las mejores)\n",
    "matches = sorted(matches, key=lambda x: x.distance)\n",
    "\n",
    "# Para dibujar los keypoints necesitamos crear un arreglo de KeyPoint\n",
    "# Generar keypoints para la primera y segunda imagen a partir de la malla DAISY\n",
    "keypoints = []\n",
    "keypoints1 = []\n",
    "\n",
    "step = 158  # El valor del 'step' usado en DAISY\n",
    "radius = 50  # El radio del descriptor\n",
    "\n",
    "# Generar keypoints para la imagen original\n",
    "for i in range(des_daisy.shape[0]):\n",
    "    for j in range(des_daisy.shape[1]):\n",
    "        keypoints.append(cv2.KeyPoint(j * step + radius, i * step + radius, 1))\n",
    "\n",
    "# Generar keypoints para la segunda imagen\n",
    "for i in range(des_daisy1.shape[0]):\n",
    "    for j in range(des_daisy1.shape[1]):\n",
    "        keypoints1.append(cv2.KeyPoint(j * step + radius, i * step + radius, 1))\n",
    "\n",
    "# Dibujar los matches entre las imágenes\n",
    "img_matches = cv2.drawMatches(\n",
    "    image, keypoints,  # Imagen original y sus keypoints\n",
    "    image1, keypoints1,  # Imagen de referencia y sus keypoints\n",
    "    matches[:30], None\n",
    ")\n",
    "\n",
    "# Mostrar el resultado con matplotlib\n",
    "plt.figure(figsize=(15, 10))\n",
    "plt.imshow(img_matches)\n",
    "plt.title('Coincidencias entre imagen 1 y imagen 2 usando DAISY')\n",
    "plt.axis('off')  # Desactivar los ejes para que sea más limpio\n",
    "plt.show()\n",
    "\n"
   ]
  },
  {
   "cell_type": "code",
   "execution_count": null,
   "metadata": {},
   "outputs": [],
   "source": [
    "surf_query = []\n",
    "for picture in tqdm(QSD1_w4_filtered):\n",
    "    for painting in picture:\n",
    "        kp, des = surf_descriptor(painting)\n",
    "        surf_query.append({'kp': kp, 'des': des})\n",
    "\n",
    "\n",
    "surf_bd = []\n",
    "for picture in tqdm(QSD1_w4_nonAugmented):\n",
    "    for painting in picture:\n",
    "        kp, des = surf_descriptor(painting)\n",
    "        surf_bd.append({'kp': kp, 'des': des})"
   ]
  },
  {
   "cell_type": "markdown",
   "metadata": {},
   "source": [
    "#### ORB"
   ]
  },
  {
   "cell_type": "code",
   "execution_count": null,
   "metadata": {},
   "outputs": [],
   "source": [
    "def orb_descriptor(image, params={}):\n",
    "    img_gray = cv2.cvtColor(image, cv2.COLOR_BGR2GRAY)\n",
    "    orb = cv2.ORB_create(**params)\n",
    "    kp, des = orb.detectAndCompute(img_gray, None)\n",
    "\n",
    "    return (kp, des)"
   ]
  },
  {
   "cell_type": "markdown",
   "metadata": {},
   "source": [
    "# Task 2"
   ]
  },
  {
   "cell_type": "markdown",
   "metadata": {},
   "source": [
    "### a) Find tentative matches based on similarity of local appearance and verify matches "
   ]
  },
  {
   "cell_type": "markdown",
   "metadata": {},
   "source": [
    "### b) Implement a system to discard queries not in the data set (unknowns)"
   ]
  },
  {
   "cell_type": "markdown",
   "metadata": {},
   "source": [
    "# Task 3"
   ]
  },
  {
   "cell_type": "markdown",
   "metadata": {},
   "source": [
    "### a) Evaluate system based on keypoint descriptors on QSD1-W4"
   ]
  },
  {
   "cell_type": "markdown",
   "metadata": {},
   "source": [
    "### b) Compare your best query system from previous week on QSD1-W4"
   ]
  },
  {
   "cell_type": "markdown",
   "metadata": {},
   "source": [
    "# Task 4"
   ]
  },
  {
   "cell_type": "markdown",
   "metadata": {},
   "source": [
    "### a) Create pkl file"
   ]
  }
 ],
 "metadata": {
  "kernelspec": {
   "display_name": "Python 3",
   "language": "python",
   "name": "python3"
  },
  "language_info": {
   "codemirror_mode": {
    "name": "ipython",
    "version": 3
   },
   "file_extension": ".py",
   "mimetype": "text/x-python",
   "name": "python",
   "nbconvert_exporter": "python",
   "pygments_lexer": "ipython3",
   "version": "3.11.4"
  }
 },
 "nbformat": 4,
 "nbformat_minor": 2
}
