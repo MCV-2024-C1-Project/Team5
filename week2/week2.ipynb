{
 "cells": [
  {
   "cell_type": "markdown",
   "metadata": {},
   "source": [
    "# C1 - Introduction to Human and Computer Vision\n",
    "## Week 2 - Team 5"
   ]
  },
  {
   "cell_type": "markdown",
   "metadata": {},
   "source": [
    "### Task 1\n",
    "- Implement 3D / 2D and block and hierarchical histograms.\n",
    "    - Block-based Histograms\n",
    "        1. Divide image in non-overlapping blocks.\n",
    "        2. Compute histograms per block.\n",
    "        3. Concatenate histograms.\n",
    "    - Spatial pyramid representation.\n",
    "        1. Computer block histograms at different levels.\n",
    "        2. Concatenate representations."
   ]
  },
  {
   "cell_type": "code",
   "execution_count": null,
   "metadata": {},
   "outputs": [],
   "source": []
  },
  {
   "cell_type": "markdown",
   "metadata": {},
   "source": [
    "### Task 2\n",
    "- Test query system using query set QSD1-W2 development, evaluate retrieval\n",
    "results (use your best performing descriptor). Compare results against the\n",
    "best descriptor in W1 (the dev set is the same)\n"
   ]
  },
  {
   "cell_type": "code",
   "execution_count": null,
   "metadata": {},
   "outputs": [],
   "source": []
  },
  {
   "cell_type": "markdown",
   "metadata": {},
   "source": [
    "### Task 3\n",
    "- For each image in the QS2, remove background using the\n",
    "background color (e.g. model background distribution, color\n",
    "thresholds, …)\n",
    "    - Create a binary mask to evaluate the method.\n",
    "    - Compute the descriptors on the foreground pixels.\n",
    "    - Do not use contour detectors, objects detectors, etc. Just color!"
   ]
  },
  {
   "cell_type": "code",
   "execution_count": null,
   "metadata": {},
   "outputs": [],
   "source": []
  },
  {
   "cell_type": "markdown",
   "metadata": {},
   "source": [
    "### Task 4\n",
    "- Background removal evaluation with the following metrics:\n",
    "    - Precision\n",
    "    - Recall\n",
    "    - F1-measure"
   ]
  },
  {
   "cell_type": "code",
   "execution_count": null,
   "metadata": {},
   "outputs": [],
   "source": []
  },
  {
   "cell_type": "markdown",
   "metadata": {},
   "source": [
    "### Task 5\n",
    "- For QSD2-W2:\n",
    "    1. Remove backgorund\n",
    "    2. Apply retrieval system.\n",
    "    3. Return correspondences for each painting."
   ]
  },
  {
   "cell_type": "code",
   "execution_count": null,
   "metadata": {},
   "outputs": [],
   "source": []
  }
 ],
 "metadata": {
  "kernelspec": {
   "display_name": ".venv",
   "language": "python",
   "name": "python3"
  },
  "language_info": {
   "codemirror_mode": {
    "name": "ipython",
    "version": 3
   },
   "file_extension": ".py",
   "mimetype": "text/x-python",
   "name": "python",
   "nbconvert_exporter": "python",
   "pygments_lexer": "ipython3",
   "version": "3.12.3"
  }
 },
 "nbformat": 4,
 "nbformat_minor": 2
}
